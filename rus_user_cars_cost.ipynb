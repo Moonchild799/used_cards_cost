{
 "cells": [
  {
   "cell_type": "markdown",
   "metadata": {},
   "source": [
    "# Определение стоимости автомобилей"
   ]
  },
  {
   "cell_type": "markdown",
   "metadata": {},
   "source": [
    "# Содержание\n",
    "\n",
    "- [Введение](#intro)\n",
    "- [Подготовка данных](#data)\n",
    "- [Предобработка данных](#preprocessing)\n",
    "  - [Пропуски](#missing)\n",
    "  - [Дубликаты](#dublicated)\n",
    "  - [Аномалии](#anomalies)\n",
    "  - [Удаление ненужных данных](#unnecessary_data)\n",
    "  - [Изменение типов данных](#types)\n",
    "  - [Выводы по предобработке данных](#pre_conclusion)\n",
    "- [Обучение моделей](#fit)\n",
    "  - [Подготовка данных](#data_preparation)\n",
    "  - [Линейная Регрессия](#lr)\n",
    "  - [Древо Решений](#dt)\n",
    "  - [LightGBM Regressor](#lightgbm)\n",
    "  - [CatBoost Regressor](#catboost)\n",
    "  - [Выводы по обучению моделей](#models_conclusion)\n",
    "- [Анализ моделей](#model_analysis)\n",
    "  - [Тестирование](#test)\n",
    "- [Итоговые выводы](#conclusion)"
   ]
  },
  {
   "cell_type": "markdown",
   "metadata": {},
   "source": [
    "<a id='intro'></a>\n",
    "## Введение\n",
    "\n",
    "Сервис по продаже автомобилей с пробегом «Не бит, не крашен» разрабатывает приложение для привлечения новых клиентов. В нём можно быстро узнать рыночную стоимость своего автомобиля. В нашем распоряжении исторические данные: технические характеристики, комплектации и цены автомобилей. Нам нужно построить модель для определения стоимости. \n",
    "\n",
    "Заказчику важны:\n",
    "\n",
    "- качество предсказания;\n",
    "- скорость предсказания;\n",
    "- время обучения."
   ]
  },
  {
   "cell_type": "markdown",
   "metadata": {},
   "source": [
    "<a id='data'></a>\n",
    "## Подготовка данных"
   ]
  },
  {
   "cell_type": "markdown",
   "metadata": {},
   "source": [
    "**Импортируем необходимые библиотеки**"
   ]
  },
  {
   "cell_type": "code",
   "execution_count": 1,
   "metadata": {},
   "outputs": [],
   "source": [
    "import pandas as pd\n",
    "import numpy as np\n",
    "import seaborn as sns\n",
    "import matplotlib.pyplot as plt\n",
    "\n",
    "from sklearn.model_selection import train_test_split, KFold, GridSearchCV\n",
    "from sklearn.preprocessing import StandardScaler, OneHotEncoder, OrdinalEncoder\n",
    "from sklearn.utils import shuffle\n",
    "\n",
    "import lightgbm as lgb\n",
    "from catboost import CatBoostRegressor\n",
    "from sklearn.linear_model import LinearRegression\n",
    "from sklearn.tree import DecisionTreeRegressor\n",
    "from sklearn.ensemble import RandomForestRegressor\n",
    "from sklearn.metrics import mean_squared_error\n",
    "\n",
    "from ydata_profiling import ProfileReport"
   ]
  },
  {
   "cell_type": "markdown",
   "metadata": {},
   "source": [
    "**Читаем исходный файл**"
   ]
  },
  {
   "cell_type": "code",
   "execution_count": 2,
   "metadata": {},
   "outputs": [],
   "source": [
    "try:\n",
    "    autos = pd.read_csv('autos.csv')\n",
    "except:\n",
    "    autos = pd.read_csv('/datasets/autos.csv')\n",
    "    \n",
    "original_data = autos"
   ]
  },
  {
   "cell_type": "code",
   "execution_count": 3,
   "metadata": {},
   "outputs": [],
   "source": [
    "def check_del(df):\n",
    "    value = df.shape[0] / original_data.shape[0]\n",
    "    return '{:,.2%}'.format(value)"
   ]
  },
  {
   "cell_type": "markdown",
   "metadata": {},
   "source": [
    "Данная функция нам понадобится для проверки какой процент данных от изначальных остался после предобработки."
   ]
  },
  {
   "cell_type": "markdown",
   "metadata": {},
   "source": [
    "**Основная информация о датафрейме**"
   ]
  },
  {
   "cell_type": "code",
   "execution_count": 4,
   "metadata": {},
   "outputs": [
    {
     "name": "stdout",
     "output_type": "stream",
     "text": [
      "<class 'pandas.core.frame.DataFrame'>\n",
      "RangeIndex: 354369 entries, 0 to 354368\n",
      "Data columns (total 16 columns):\n",
      " #   Column             Non-Null Count   Dtype \n",
      "---  ------             --------------   ----- \n",
      " 0   DateCrawled        354369 non-null  object\n",
      " 1   Price              354369 non-null  int64 \n",
      " 2   VehicleType        316879 non-null  object\n",
      " 3   RegistrationYear   354369 non-null  int64 \n",
      " 4   Gearbox            334536 non-null  object\n",
      " 5   Power              354369 non-null  int64 \n",
      " 6   Model              334664 non-null  object\n",
      " 7   Kilometer          354369 non-null  int64 \n",
      " 8   RegistrationMonth  354369 non-null  int64 \n",
      " 9   FuelType           321474 non-null  object\n",
      " 10  Brand              354369 non-null  object\n",
      " 11  Repaired           283215 non-null  object\n",
      " 12  DateCreated        354369 non-null  object\n",
      " 13  NumberOfPictures   354369 non-null  int64 \n",
      " 14  PostalCode         354369 non-null  int64 \n",
      " 15  LastSeen           354369 non-null  object\n",
      "dtypes: int64(7), object(9)\n",
      "memory usage: 43.3+ MB\n"
     ]
    }
   ],
   "source": [
    "autos.info()"
   ]
  },
  {
   "cell_type": "code",
   "execution_count": 5,
   "metadata": {},
   "outputs": [
    {
     "data": {
      "text/html": [
       "<div>\n",
       "<style scoped>\n",
       "    .dataframe tbody tr th:only-of-type {\n",
       "        vertical-align: middle;\n",
       "    }\n",
       "\n",
       "    .dataframe tbody tr th {\n",
       "        vertical-align: top;\n",
       "    }\n",
       "\n",
       "    .dataframe thead th {\n",
       "        text-align: right;\n",
       "    }\n",
       "</style>\n",
       "<table border=\"1\" class=\"dataframe\">\n",
       "  <thead>\n",
       "    <tr style=\"text-align: right;\">\n",
       "      <th></th>\n",
       "      <th>DateCrawled</th>\n",
       "      <th>Price</th>\n",
       "      <th>VehicleType</th>\n",
       "      <th>RegistrationYear</th>\n",
       "      <th>Gearbox</th>\n",
       "      <th>Power</th>\n",
       "      <th>Model</th>\n",
       "      <th>Kilometer</th>\n",
       "      <th>RegistrationMonth</th>\n",
       "      <th>FuelType</th>\n",
       "      <th>Brand</th>\n",
       "      <th>Repaired</th>\n",
       "      <th>DateCreated</th>\n",
       "      <th>NumberOfPictures</th>\n",
       "      <th>PostalCode</th>\n",
       "      <th>LastSeen</th>\n",
       "    </tr>\n",
       "  </thead>\n",
       "  <tbody>\n",
       "    <tr>\n",
       "      <th>0</th>\n",
       "      <td>2016-03-24 11:52:17</td>\n",
       "      <td>480</td>\n",
       "      <td>NaN</td>\n",
       "      <td>1993</td>\n",
       "      <td>manual</td>\n",
       "      <td>0</td>\n",
       "      <td>golf</td>\n",
       "      <td>150000</td>\n",
       "      <td>0</td>\n",
       "      <td>petrol</td>\n",
       "      <td>volkswagen</td>\n",
       "      <td>NaN</td>\n",
       "      <td>2016-03-24 00:00:00</td>\n",
       "      <td>0</td>\n",
       "      <td>70435</td>\n",
       "      <td>2016-04-07 03:16:57</td>\n",
       "    </tr>\n",
       "    <tr>\n",
       "      <th>1</th>\n",
       "      <td>2016-03-24 10:58:45</td>\n",
       "      <td>18300</td>\n",
       "      <td>coupe</td>\n",
       "      <td>2011</td>\n",
       "      <td>manual</td>\n",
       "      <td>190</td>\n",
       "      <td>NaN</td>\n",
       "      <td>125000</td>\n",
       "      <td>5</td>\n",
       "      <td>gasoline</td>\n",
       "      <td>audi</td>\n",
       "      <td>yes</td>\n",
       "      <td>2016-03-24 00:00:00</td>\n",
       "      <td>0</td>\n",
       "      <td>66954</td>\n",
       "      <td>2016-04-07 01:46:50</td>\n",
       "    </tr>\n",
       "    <tr>\n",
       "      <th>2</th>\n",
       "      <td>2016-03-14 12:52:21</td>\n",
       "      <td>9800</td>\n",
       "      <td>suv</td>\n",
       "      <td>2004</td>\n",
       "      <td>auto</td>\n",
       "      <td>163</td>\n",
       "      <td>grand</td>\n",
       "      <td>125000</td>\n",
       "      <td>8</td>\n",
       "      <td>gasoline</td>\n",
       "      <td>jeep</td>\n",
       "      <td>NaN</td>\n",
       "      <td>2016-03-14 00:00:00</td>\n",
       "      <td>0</td>\n",
       "      <td>90480</td>\n",
       "      <td>2016-04-05 12:47:46</td>\n",
       "    </tr>\n",
       "    <tr>\n",
       "      <th>3</th>\n",
       "      <td>2016-03-17 16:54:04</td>\n",
       "      <td>1500</td>\n",
       "      <td>small</td>\n",
       "      <td>2001</td>\n",
       "      <td>manual</td>\n",
       "      <td>75</td>\n",
       "      <td>golf</td>\n",
       "      <td>150000</td>\n",
       "      <td>6</td>\n",
       "      <td>petrol</td>\n",
       "      <td>volkswagen</td>\n",
       "      <td>no</td>\n",
       "      <td>2016-03-17 00:00:00</td>\n",
       "      <td>0</td>\n",
       "      <td>91074</td>\n",
       "      <td>2016-03-17 17:40:17</td>\n",
       "    </tr>\n",
       "    <tr>\n",
       "      <th>4</th>\n",
       "      <td>2016-03-31 17:25:20</td>\n",
       "      <td>3600</td>\n",
       "      <td>small</td>\n",
       "      <td>2008</td>\n",
       "      <td>manual</td>\n",
       "      <td>69</td>\n",
       "      <td>fabia</td>\n",
       "      <td>90000</td>\n",
       "      <td>7</td>\n",
       "      <td>gasoline</td>\n",
       "      <td>skoda</td>\n",
       "      <td>no</td>\n",
       "      <td>2016-03-31 00:00:00</td>\n",
       "      <td>0</td>\n",
       "      <td>60437</td>\n",
       "      <td>2016-04-06 10:17:21</td>\n",
       "    </tr>\n",
       "    <tr>\n",
       "      <th>5</th>\n",
       "      <td>2016-04-04 17:36:23</td>\n",
       "      <td>650</td>\n",
       "      <td>sedan</td>\n",
       "      <td>1995</td>\n",
       "      <td>manual</td>\n",
       "      <td>102</td>\n",
       "      <td>3er</td>\n",
       "      <td>150000</td>\n",
       "      <td>10</td>\n",
       "      <td>petrol</td>\n",
       "      <td>bmw</td>\n",
       "      <td>yes</td>\n",
       "      <td>2016-04-04 00:00:00</td>\n",
       "      <td>0</td>\n",
       "      <td>33775</td>\n",
       "      <td>2016-04-06 19:17:07</td>\n",
       "    </tr>\n",
       "    <tr>\n",
       "      <th>6</th>\n",
       "      <td>2016-04-01 20:48:51</td>\n",
       "      <td>2200</td>\n",
       "      <td>convertible</td>\n",
       "      <td>2004</td>\n",
       "      <td>manual</td>\n",
       "      <td>109</td>\n",
       "      <td>2_reihe</td>\n",
       "      <td>150000</td>\n",
       "      <td>8</td>\n",
       "      <td>petrol</td>\n",
       "      <td>peugeot</td>\n",
       "      <td>no</td>\n",
       "      <td>2016-04-01 00:00:00</td>\n",
       "      <td>0</td>\n",
       "      <td>67112</td>\n",
       "      <td>2016-04-05 18:18:39</td>\n",
       "    </tr>\n",
       "    <tr>\n",
       "      <th>7</th>\n",
       "      <td>2016-03-21 18:54:38</td>\n",
       "      <td>0</td>\n",
       "      <td>sedan</td>\n",
       "      <td>1980</td>\n",
       "      <td>manual</td>\n",
       "      <td>50</td>\n",
       "      <td>other</td>\n",
       "      <td>40000</td>\n",
       "      <td>7</td>\n",
       "      <td>petrol</td>\n",
       "      <td>volkswagen</td>\n",
       "      <td>no</td>\n",
       "      <td>2016-03-21 00:00:00</td>\n",
       "      <td>0</td>\n",
       "      <td>19348</td>\n",
       "      <td>2016-03-25 16:47:58</td>\n",
       "    </tr>\n",
       "    <tr>\n",
       "      <th>8</th>\n",
       "      <td>2016-04-04 23:42:13</td>\n",
       "      <td>14500</td>\n",
       "      <td>bus</td>\n",
       "      <td>2014</td>\n",
       "      <td>manual</td>\n",
       "      <td>125</td>\n",
       "      <td>c_max</td>\n",
       "      <td>30000</td>\n",
       "      <td>8</td>\n",
       "      <td>petrol</td>\n",
       "      <td>ford</td>\n",
       "      <td>NaN</td>\n",
       "      <td>2016-04-04 00:00:00</td>\n",
       "      <td>0</td>\n",
       "      <td>94505</td>\n",
       "      <td>2016-04-04 23:42:13</td>\n",
       "    </tr>\n",
       "    <tr>\n",
       "      <th>9</th>\n",
       "      <td>2016-03-17 10:53:50</td>\n",
       "      <td>999</td>\n",
       "      <td>small</td>\n",
       "      <td>1998</td>\n",
       "      <td>manual</td>\n",
       "      <td>101</td>\n",
       "      <td>golf</td>\n",
       "      <td>150000</td>\n",
       "      <td>0</td>\n",
       "      <td>NaN</td>\n",
       "      <td>volkswagen</td>\n",
       "      <td>NaN</td>\n",
       "      <td>2016-03-17 00:00:00</td>\n",
       "      <td>0</td>\n",
       "      <td>27472</td>\n",
       "      <td>2016-03-31 17:17:06</td>\n",
       "    </tr>\n",
       "  </tbody>\n",
       "</table>\n",
       "</div>"
      ],
      "text/plain": [
       "           DateCrawled  Price  VehicleType  RegistrationYear Gearbox  Power  \\\n",
       "0  2016-03-24 11:52:17    480          NaN              1993  manual      0   \n",
       "1  2016-03-24 10:58:45  18300        coupe              2011  manual    190   \n",
       "2  2016-03-14 12:52:21   9800          suv              2004    auto    163   \n",
       "3  2016-03-17 16:54:04   1500        small              2001  manual     75   \n",
       "4  2016-03-31 17:25:20   3600        small              2008  manual     69   \n",
       "5  2016-04-04 17:36:23    650        sedan              1995  manual    102   \n",
       "6  2016-04-01 20:48:51   2200  convertible              2004  manual    109   \n",
       "7  2016-03-21 18:54:38      0        sedan              1980  manual     50   \n",
       "8  2016-04-04 23:42:13  14500          bus              2014  manual    125   \n",
       "9  2016-03-17 10:53:50    999        small              1998  manual    101   \n",
       "\n",
       "     Model  Kilometer  RegistrationMonth  FuelType       Brand Repaired  \\\n",
       "0     golf     150000                  0    petrol  volkswagen      NaN   \n",
       "1      NaN     125000                  5  gasoline        audi      yes   \n",
       "2    grand     125000                  8  gasoline        jeep      NaN   \n",
       "3     golf     150000                  6    petrol  volkswagen       no   \n",
       "4    fabia      90000                  7  gasoline       skoda       no   \n",
       "5      3er     150000                 10    petrol         bmw      yes   \n",
       "6  2_reihe     150000                  8    petrol     peugeot       no   \n",
       "7    other      40000                  7    petrol  volkswagen       no   \n",
       "8    c_max      30000                  8    petrol        ford      NaN   \n",
       "9     golf     150000                  0       NaN  volkswagen      NaN   \n",
       "\n",
       "           DateCreated  NumberOfPictures  PostalCode             LastSeen  \n",
       "0  2016-03-24 00:00:00                 0       70435  2016-04-07 03:16:57  \n",
       "1  2016-03-24 00:00:00                 0       66954  2016-04-07 01:46:50  \n",
       "2  2016-03-14 00:00:00                 0       90480  2016-04-05 12:47:46  \n",
       "3  2016-03-17 00:00:00                 0       91074  2016-03-17 17:40:17  \n",
       "4  2016-03-31 00:00:00                 0       60437  2016-04-06 10:17:21  \n",
       "5  2016-04-04 00:00:00                 0       33775  2016-04-06 19:17:07  \n",
       "6  2016-04-01 00:00:00                 0       67112  2016-04-05 18:18:39  \n",
       "7  2016-03-21 00:00:00                 0       19348  2016-03-25 16:47:58  \n",
       "8  2016-04-04 00:00:00                 0       94505  2016-04-04 23:42:13  \n",
       "9  2016-03-17 00:00:00                 0       27472  2016-03-31 17:17:06  "
      ]
     },
     "execution_count": 5,
     "metadata": {},
     "output_type": "execute_result"
    }
   ],
   "source": [
    "autos.head(10)"
   ]
  },
  {
   "cell_type": "code",
   "execution_count": 6,
   "metadata": {},
   "outputs": [
    {
     "data": {
      "image/png": "[encoded data removed]",
      "text/plain": [
       "<Figure size 1080x720 with 9 Axes>"
      ]
     },
     "metadata": {
      "needs_background": "light"
     },
     "output_type": "display_data"
    }
   ],
   "source": [
    "autos.hist(figsize=(15, 10));"
   ]
  },
  {
   "cell_type": "markdown",
   "metadata": {},
   "source": [
    "Датафрейм содержит 354369 строки (разные автомобили) и 16 стобцов (различные сведения об этих автомобилях). Колонки `DateCrawled`, `DateCreated` и `LastSeen` содержат информацию о датах, но находятся в строковом формате. Мы исправим это на этапе предобработки."
   ]
  },
  {
   "cell_type": "markdown",
   "metadata": {},
   "source": [
    "<a id='preprocessing'></a>\n",
    "## Предобработка данных\n",
    "<a id='missing'></a>\n",
    "### Пропуски\n",
    "\n",
    "Проверим данные на наличие пропусков."
   ]
  },
  {
   "cell_type": "code",
   "execution_count": 7,
   "metadata": {},
   "outputs": [
    {
     "data": {
      "text/plain": [
       "DateCrawled              0\n",
       "Price                    0\n",
       "VehicleType          37490\n",
       "RegistrationYear         0\n",
       "Gearbox              19833\n",
       "Power                    0\n",
       "Model                19705\n",
       "Kilometer                0\n",
       "RegistrationMonth        0\n",
       "FuelType             32895\n",
       "Brand                    0\n",
       "Repaired             71154\n",
       "DateCreated              0\n",
       "NumberOfPictures         0\n",
       "PostalCode               0\n",
       "LastSeen                 0\n",
       "dtype: int64"
      ]
     },
     "execution_count": 7,
     "metadata": {},
     "output_type": "execute_result"
    }
   ],
   "source": [
    "autos.isna().sum()"
   ]
  },
  {
   "cell_type": "markdown",
   "metadata": {},
   "source": [
    "Нашли пропуски в 5 колонках: `VehicleType`, `Gearbox`, `Model`, `FuelType` и `Repaired`. Рассмотрим каждую из них подробнее.\n",
    "\n",
    "Начнём с `VehicleType`. Проверим какие значения содержаться в данном столбце."
   ]
  },
  {
   "cell_type": "code",
   "execution_count": 8,
   "metadata": {},
   "outputs": [
    {
     "name": "stdout",
     "output_type": "stream",
     "text": [
      "Типы кузовов: [nan 'coupe' 'suv' 'small' 'sedan' 'convertible' 'bus' 'wagon' 'other']\n",
      "Количество уникальных значений: 8\n"
     ]
    }
   ],
   "source": [
    "print('Типы кузовов:', autos['VehicleType'].unique())\n",
    "print('Количество уникальных значений:', autos['VehicleType'].nunique())"
   ]
  },
  {
   "cell_type": "markdown",
   "metadata": {},
   "source": [
    "`VehicleType` содержит 8 различных типов кузовов. Посмотрим как они распределены."
   ]
  },
  {
   "cell_type": "code",
   "execution_count": 9,
   "metadata": {},
   "outputs": [
    {
     "data": {
      "text/html": [
       "<div>\n",
       "<style scoped>\n",
       "    .dataframe tbody tr th:only-of-type {\n",
       "        vertical-align: middle;\n",
       "    }\n",
       "\n",
       "    .dataframe tbody tr th {\n",
       "        vertical-align: top;\n",
       "    }\n",
       "\n",
       "    .dataframe thead th {\n",
       "        text-align: right;\n",
       "    }\n",
       "</style>\n",
       "<table border=\"1\" class=\"dataframe\">\n",
       "  <thead>\n",
       "    <tr style=\"text-align: right;\">\n",
       "      <th></th>\n",
       "      <th>total</th>\n",
       "    </tr>\n",
       "    <tr>\n",
       "      <th>VehicleType</th>\n",
       "      <th></th>\n",
       "    </tr>\n",
       "  </thead>\n",
       "  <tbody>\n",
       "    <tr>\n",
       "      <th>bus</th>\n",
       "      <td>28775</td>\n",
       "    </tr>\n",
       "    <tr>\n",
       "      <th>convertible</th>\n",
       "      <td>20203</td>\n",
       "    </tr>\n",
       "    <tr>\n",
       "      <th>coupe</th>\n",
       "      <td>16163</td>\n",
       "    </tr>\n",
       "    <tr>\n",
       "      <th>other</th>\n",
       "      <td>3288</td>\n",
       "    </tr>\n",
       "    <tr>\n",
       "      <th>sedan</th>\n",
       "      <td>91457</td>\n",
       "    </tr>\n",
       "    <tr>\n",
       "      <th>small</th>\n",
       "      <td>79831</td>\n",
       "    </tr>\n",
       "    <tr>\n",
       "      <th>suv</th>\n",
       "      <td>11996</td>\n",
       "    </tr>\n",
       "    <tr>\n",
       "      <th>wagon</th>\n",
       "      <td>65166</td>\n",
       "    </tr>\n",
       "  </tbody>\n",
       "</table>\n",
       "</div>"
      ],
      "text/plain": [
       "             total\n",
       "VehicleType       \n",
       "bus          28775\n",
       "convertible  20203\n",
       "coupe        16163\n",
       "other         3288\n",
       "sedan        91457\n",
       "small        79831\n",
       "suv          11996\n",
       "wagon        65166"
      ]
     },
     "metadata": {},
     "output_type": "display_data"
    }
   ],
   "source": [
    "vt = autos.groupby('VehicleType').agg(total=('VehicleType', 'count'))\n",
    "display(vt)"
   ]
  },
  {
   "cell_type": "code",
   "execution_count": 10,
   "metadata": {},
   "outputs": [
    {
     "data": {
      "image/png": "[encoded data removed]",
      "text/plain": [
       "<Figure size 1080x504 with 1 Axes>"
      ]
     },
     "metadata": {},
     "output_type": "display_data"
    }
   ],
   "source": [
    "sns.set(style=\"darkgrid\")\n",
    "\n",
    "plt.figure(figsize=(15, 7))\n",
    "sns.barplot(\n",
    "    x=vt.index, \n",
    "    y='total', \n",
    "    data=vt, \n",
    "    estimator=sum, \n",
    "    ci=None, \n",
    "    color='#69b3a2');\n",
    "plt.title('Распределение типов кузова');\n",
    "plt.xlabel('Тип кузова');\n",
    "plt.ylabel('Колличество');"
   ]
  },
  {
   "cell_type": "markdown",
   "metadata": {},
   "source": [
    "Три самые рапространённые категории: **wagon** (65166 автомобилей), **small** (79831 автомобилей) и **sedan** (91457 автомобилей), в сумме на них приходится более 65% от общего числа. Пропущенные значения в данной колонке скорей всего связаны с не полным заполнением данных человеком. Так как пропусков слишком много то удалять их мы не будем, вместо этого ввёдём ещё одну категорию unknown (неизвестно) и присовоим её всем пропущенным значениям."
   ]
  },
  {
   "cell_type": "code",
   "execution_count": 11,
   "metadata": {},
   "outputs": [],
   "source": [
    "autos['VehicleType'] = autos['VehicleType'].fillna('unknown')"
   ]
  },
  {
   "cell_type": "markdown",
   "metadata": {},
   "source": [
    "Заполнили пропуски значением 'unknown', посмотрим на количество пропусков теперь."
   ]
  },
  {
   "cell_type": "code",
   "execution_count": 12,
   "metadata": {},
   "outputs": [
    {
     "data": {
      "text/plain": [
       "DateCrawled              0\n",
       "Price                    0\n",
       "VehicleType              0\n",
       "RegistrationYear         0\n",
       "Gearbox              19833\n",
       "Power                    0\n",
       "Model                19705\n",
       "Kilometer                0\n",
       "RegistrationMonth        0\n",
       "FuelType             32895\n",
       "Brand                    0\n",
       "Repaired             71154\n",
       "DateCreated              0\n",
       "NumberOfPictures         0\n",
       "PostalCode               0\n",
       "LastSeen                 0\n",
       "dtype: int64"
      ]
     },
     "execution_count": 12,
     "metadata": {},
     "output_type": "execute_result"
    }
   ],
   "source": [
    "autos.isna().sum()"
   ]
  },
  {
   "cell_type": "markdown",
   "metadata": {},
   "source": [
    "Пропусков нет в `VehicleType`. Посмотрим как типы кузовов распределены теперь."
   ]
  },
  {
   "cell_type": "code",
   "execution_count": 13,
   "metadata": {},
   "outputs": [
    {
     "data": {
      "text/html": [
       "<div>\n",
       "<style scoped>\n",
       "    .dataframe tbody tr th:only-of-type {\n",
       "        vertical-align: middle;\n",
       "    }\n",
       "\n",
       "    .dataframe tbody tr th {\n",
       "        vertical-align: top;\n",
       "    }\n",
       "\n",
       "    .dataframe thead th {\n",
       "        text-align: right;\n",
       "    }\n",
       "</style>\n",
       "<table border=\"1\" class=\"dataframe\">\n",
       "  <thead>\n",
       "    <tr style=\"text-align: right;\">\n",
       "      <th></th>\n",
       "      <th>total</th>\n",
       "    </tr>\n",
       "    <tr>\n",
       "      <th>VehicleType</th>\n",
       "      <th></th>\n",
       "    </tr>\n",
       "  </thead>\n",
       "  <tbody>\n",
       "    <tr>\n",
       "      <th>bus</th>\n",
       "      <td>28775</td>\n",
       "    </tr>\n",
       "    <tr>\n",
       "      <th>convertible</th>\n",
       "      <td>20203</td>\n",
       "    </tr>\n",
       "    <tr>\n",
       "      <th>coupe</th>\n",
       "      <td>16163</td>\n",
       "    </tr>\n",
       "    <tr>\n",
       "      <th>other</th>\n",
       "      <td>3288</td>\n",
       "    </tr>\n",
       "    <tr>\n",
       "      <th>sedan</th>\n",
       "      <td>91457</td>\n",
       "    </tr>\n",
       "    <tr>\n",
       "      <th>small</th>\n",
       "      <td>79831</td>\n",
       "    </tr>\n",
       "    <tr>\n",
       "      <th>suv</th>\n",
       "      <td>11996</td>\n",
       "    </tr>\n",
       "    <tr>\n",
       "      <th>unknown</th>\n",
       "      <td>37490</td>\n",
       "    </tr>\n",
       "    <tr>\n",
       "      <th>wagon</th>\n",
       "      <td>65166</td>\n",
       "    </tr>\n",
       "  </tbody>\n",
       "</table>\n",
       "</div>"
      ],
      "text/plain": [
       "             total\n",
       "VehicleType       \n",
       "bus          28775\n",
       "convertible  20203\n",
       "coupe        16163\n",
       "other         3288\n",
       "sedan        91457\n",
       "small        79831\n",
       "suv          11996\n",
       "unknown      37490\n",
       "wagon        65166"
      ]
     },
     "metadata": {},
     "output_type": "display_data"
    }
   ],
   "source": [
    "vt = autos.groupby('VehicleType').agg(total=('VehicleType', 'count'))\n",
    "display(vt)"
   ]
  },
  {
   "cell_type": "code",
   "execution_count": 14,
   "metadata": {},
   "outputs": [
    {
     "data": {
      "image/png": "[encoded data removed]",
      "text/plain": [
       "<Figure size 1080x504 with 1 Axes>"
      ]
     },
     "metadata": {},
     "output_type": "display_data"
    }
   ],
   "source": [
    "sns.set(style=\"darkgrid\")\n",
    "\n",
    "plt.figure(figsize=(15, 7))\n",
    "sns.barplot(\n",
    "    x=vt.index, \n",
    "    y='total', \n",
    "    data=vt, \n",
    "    estimator=sum, \n",
    "    ci=None, \n",
    "    color='#69b3a2');\n",
    "plt.title('Распределение типов кузова');\n",
    "plt.xlabel('Тип кузова');\n",
    "plt.ylabel('Колличество');"
   ]
  },
  {
   "cell_type": "markdown",
   "metadata": {},
   "source": [
    "С пропусками в `VehicleType` закончили, теперь посмотрим на `Gearbox`. "
   ]
  },
  {
   "cell_type": "code",
   "execution_count": 15,
   "metadata": {},
   "outputs": [
    {
     "name": "stdout",
     "output_type": "stream",
     "text": [
      "Коробки передач: ['manual' 'auto' nan]\n",
      "Количество уникальных значений: 2\n"
     ]
    }
   ],
   "source": [
    "print('Коробки передач:', autos['Gearbox'].unique())\n",
    "print('Количество уникальных значений:', autos['Gearbox'].nunique())"
   ]
  },
  {
   "cell_type": "markdown",
   "metadata": {},
   "source": [
    "Колонка содержит 2 типа коробок передач. Посмотрим на распределение."
   ]
  },
  {
   "cell_type": "code",
   "execution_count": 16,
   "metadata": {},
   "outputs": [
    {
     "data": {
      "text/html": [
       "<div>\n",
       "<style scoped>\n",
       "    .dataframe tbody tr th:only-of-type {\n",
       "        vertical-align: middle;\n",
       "    }\n",
       "\n",
       "    .dataframe tbody tr th {\n",
       "        vertical-align: top;\n",
       "    }\n",
       "\n",
       "    .dataframe thead th {\n",
       "        text-align: right;\n",
       "    }\n",
       "</style>\n",
       "<table border=\"1\" class=\"dataframe\">\n",
       "  <thead>\n",
       "    <tr style=\"text-align: right;\">\n",
       "      <th></th>\n",
       "      <th>total</th>\n",
       "    </tr>\n",
       "    <tr>\n",
       "      <th>Gearbox</th>\n",
       "      <th></th>\n",
       "    </tr>\n",
       "  </thead>\n",
       "  <tbody>\n",
       "    <tr>\n",
       "      <th>auto</th>\n",
       "      <td>66285</td>\n",
       "    </tr>\n",
       "    <tr>\n",
       "      <th>manual</th>\n",
       "      <td>268251</td>\n",
       "    </tr>\n",
       "  </tbody>\n",
       "</table>\n",
       "</div>"
      ],
      "text/plain": [
       "          total\n",
       "Gearbox        \n",
       "auto      66285\n",
       "manual   268251"
      ]
     },
     "execution_count": 16,
     "metadata": {},
     "output_type": "execute_result"
    }
   ],
   "source": [
    "autos.groupby('Gearbox').agg(total=('Gearbox', 'count'))"
   ]
  },
  {
   "cell_type": "code",
   "execution_count": 17,
   "metadata": {},
   "outputs": [
    {
     "name": "stdout",
     "output_type": "stream",
     "text": [
      "manual    0.80186\n",
      "auto      0.19814\n",
      "Name: Gearbox, dtype: float64\n"
     ]
    },
    {
     "data": {
      "image/png": "[encoded data removed]",
      "text/plain": [
       "<Figure size 432x288 with 1 Axes>"
      ]
     },
     "metadata": {},
     "output_type": "display_data"
    }
   ],
   "source": [
    "gb_frequency = autos['Gearbox'].value_counts(normalize=True)\n",
    "print(gb_frequency)\n",
    "gb_frequency.plot(kind='bar');"
   ]
  },
  {
   "cell_type": "markdown",
   "metadata": {},
   "source": [
    "80% приходится на manual. Пропущенные значения мы не можем принять за один этих типов. Посмотрим какой процент данных мы потеряем из датасета если удалим данные пропуски."
   ]
  },
  {
   "cell_type": "code",
   "execution_count": 18,
   "metadata": {},
   "outputs": [
    {
     "name": "stdout",
     "output_type": "stream",
     "text": [
      "5.60%\n"
     ]
    }
   ],
   "source": [
    "print('{:,.2%}'.format(autos['Gearbox'].isna().sum() / autos.shape[0]))"
   ]
  },
  {
   "cell_type": "markdown",
   "metadata": {},
   "source": [
    "Мы потеряем 5.6% от изначальных данных. Удалим пропуски."
   ]
  },
  {
   "cell_type": "code",
   "execution_count": 19,
   "metadata": {},
   "outputs": [],
   "source": [
    "autos = autos.dropna(subset=['Gearbox']).reset_index(drop=True)"
   ]
  },
  {
   "cell_type": "code",
   "execution_count": 20,
   "metadata": {},
   "outputs": [
    {
     "data": {
      "text/plain": [
       "DateCrawled              0\n",
       "Price                    0\n",
       "VehicleType              0\n",
       "RegistrationYear         0\n",
       "Gearbox                  0\n",
       "Power                    0\n",
       "Model                15574\n",
       "Kilometer                0\n",
       "RegistrationMonth        0\n",
       "FuelType             23975\n",
       "Brand                    0\n",
       "Repaired             58366\n",
       "DateCreated              0\n",
       "NumberOfPictures         0\n",
       "PostalCode               0\n",
       "LastSeen                 0\n",
       "dtype: int64"
      ]
     },
     "execution_count": 20,
     "metadata": {},
     "output_type": "execute_result"
    }
   ],
   "source": [
    "autos.isna().sum()"
   ]
  },
  {
   "cell_type": "markdown",
   "metadata": {},
   "source": [
    "После удаления пропусков в `Gearbox`, колличество пропусков в трёх оставшихся с пропусками колонках так же уменьшилось.\n",
    "\n",
    "Посмотрим на `Model`."
   ]
  },
  {
   "cell_type": "code",
   "execution_count": 21,
   "metadata": {},
   "outputs": [
    {
     "name": "stdout",
     "output_type": "stream",
     "text": [
      "Модели: ['100' '145' '147' '156' '159' '1_reihe' '1er' '200' '2_reihe' '300c'\n",
      " '3_reihe' '3er' '4_reihe' '500' '5_reihe' '5er' '601' '6_reihe' '6er'\n",
      " '7er' '80' '850' '90' '900' '9000' '911' 'a1' 'a2' 'a3' 'a4' 'a5' 'a6'\n",
      " 'a8' 'a_klasse' 'accord' 'agila' 'alhambra' 'almera' 'altea' 'amarok'\n",
      " 'antara' 'arosa' 'astra' 'auris' 'avensis' 'aveo' 'aygo' 'b_klasse'\n",
      " 'b_max' 'beetle' 'berlingo' 'bora' 'boxster' 'bravo' 'c1' 'c2' 'c3' 'c4'\n",
      " 'c5' 'c_klasse' 'c_max' 'c_reihe' 'caddy' 'calibra' 'captiva' 'carisma'\n",
      " 'carnival' 'cayenne' 'cc' 'ceed' 'charade' 'cherokee' 'citigo' 'civic'\n",
      " 'cl' 'clio' 'clk' 'clubman' 'colt' 'combo' 'cooper' 'cordoba' 'corolla'\n",
      " 'corsa' 'cr_reihe' 'croma' 'crossfire' 'cuore' 'cx_reihe' 'defender'\n",
      " 'delta' 'discovery' 'doblo' 'ducato' 'duster' 'e_klasse' 'elefantino'\n",
      " 'eos' 'escort' 'espace' 'exeo' 'fabia' 'fiesta' 'focus' 'forester'\n",
      " 'forfour' 'fortwo' 'fox' 'freelander' 'fusion' 'g_klasse' 'galant'\n",
      " 'galaxy' 'getz' 'gl' 'glk' 'golf' 'grand' 'i3' 'i_reihe' 'ibiza'\n",
      " 'impreza' 'insignia' 'jazz' 'jetta' 'jimny' 'juke' 'justy' 'ka' 'kadett'\n",
      " 'kaefer' 'kalina' 'kalos' 'kangoo' 'kappa' 'kuga' 'laguna' 'lancer'\n",
      " 'lanos' 'legacy' 'leon' 'lodgy' 'logan' 'lupo' 'lybra' 'm_klasse'\n",
      " 'm_reihe' 'materia' 'matiz' 'megane' 'meriva' 'micra' 'mii' 'modus'\n",
      " 'mondeo' 'move' 'musa' 'mustang' 'mx_reihe' 'navara' 'niva' 'note'\n",
      " 'nubira' 'octavia' 'omega' 'one' 'other' 'outlander' 'pajero' 'panda'\n",
      " 'passat' 'phaeton' 'picanto' 'polo' 'primera' 'ptcruiser' 'punto' 'q3'\n",
      " 'q5' 'q7' 'qashqai' 'r19' 'range_rover' 'range_rover_evoque'\n",
      " 'range_rover_sport' 'rangerover' 'rav' 'rio' 'roadster' 'roomster'\n",
      " 'rx_reihe' 's60' 's_klasse' 's_max' 's_type' 'samara' 'sandero' 'santa'\n",
      " 'scenic' 'scirocco' 'seicento' 'serie_1' 'serie_2' 'serie_3' 'sharan'\n",
      " 'signum' 'sirion' 'sl' 'slk' 'sorento' 'spark' 'spider' 'sportage'\n",
      " 'sprinter' 'stilo' 'superb' 'swift' 'terios' 'tigra' 'tiguan' 'toledo'\n",
      " 'touareg' 'touran' 'transit' 'transporter' 'tt' 'tucson' 'twingo' 'up'\n",
      " 'v40' 'v50' 'v60' 'v70' 'v_klasse' 'vectra' 'verso' 'viano' 'vito'\n",
      " 'vivaro' 'voyager' 'wrangler' 'x_reihe' 'x_trail' 'x_type' 'xc_reihe'\n",
      " 'yaris' 'yeti' 'ypsilon' 'z_reihe' 'zafira' nan] \n",
      "\n",
      "Количество уникальных значений: 250\n"
     ]
    }
   ],
   "source": [
    "print('Модели:', autos['Model'].sort_values().unique(), '\\n')\n",
    "print('Количество уникальных значений:', autos['Model'].nunique())"
   ]
  },
  {
   "cell_type": "code",
   "execution_count": 22,
   "metadata": {},
   "outputs": [
    {
     "data": {
      "text/html": [
       "<div>\n",
       "<style scoped>\n",
       "    .dataframe tbody tr th:only-of-type {\n",
       "        vertical-align: middle;\n",
       "    }\n",
       "\n",
       "    .dataframe tbody tr th {\n",
       "        vertical-align: top;\n",
       "    }\n",
       "\n",
       "    .dataframe thead th {\n",
       "        text-align: right;\n",
       "    }\n",
       "</style>\n",
       "<table border=\"1\" class=\"dataframe\">\n",
       "  <thead>\n",
       "    <tr style=\"text-align: right;\">\n",
       "      <th></th>\n",
       "      <th>total</th>\n",
       "    </tr>\n",
       "    <tr>\n",
       "      <th>Model</th>\n",
       "      <th></th>\n",
       "    </tr>\n",
       "  </thead>\n",
       "  <tbody>\n",
       "    <tr>\n",
       "      <th>golf</th>\n",
       "      <td>27757</td>\n",
       "    </tr>\n",
       "    <tr>\n",
       "      <th>other</th>\n",
       "      <td>23025</td>\n",
       "    </tr>\n",
       "    <tr>\n",
       "      <th>3er</th>\n",
       "      <td>19086</td>\n",
       "    </tr>\n",
       "    <tr>\n",
       "      <th>polo</th>\n",
       "      <td>12334</td>\n",
       "    </tr>\n",
       "    <tr>\n",
       "      <th>corsa</th>\n",
       "      <td>11791</td>\n",
       "    </tr>\n",
       "    <tr>\n",
       "      <th>...</th>\n",
       "      <td>...</td>\n",
       "    </tr>\n",
       "    <tr>\n",
       "      <th>i3</th>\n",
       "      <td>7</td>\n",
       "    </tr>\n",
       "    <tr>\n",
       "      <th>rangerover</th>\n",
       "      <td>4</td>\n",
       "    </tr>\n",
       "    <tr>\n",
       "      <th>serie_3</th>\n",
       "      <td>3</td>\n",
       "    </tr>\n",
       "    <tr>\n",
       "      <th>range_rover_evoque</th>\n",
       "      <td>2</td>\n",
       "    </tr>\n",
       "    <tr>\n",
       "      <th>serie_1</th>\n",
       "      <td>1</td>\n",
       "    </tr>\n",
       "  </tbody>\n",
       "</table>\n",
       "<p>250 rows × 1 columns</p>\n",
       "</div>"
      ],
      "text/plain": [
       "                    total\n",
       "Model                    \n",
       "golf                27757\n",
       "other               23025\n",
       "3er                 19086\n",
       "polo                12334\n",
       "corsa               11791\n",
       "...                   ...\n",
       "i3                      7\n",
       "rangerover              4\n",
       "serie_3                 3\n",
       "range_rover_evoque      2\n",
       "serie_1                 1\n",
       "\n",
       "[250 rows x 1 columns]"
      ]
     },
     "metadata": {},
     "output_type": "display_data"
    }
   ],
   "source": [
    "models = autos.groupby('Model').agg(total=('Model', 'count')) \\\n",
    "                               .sort_values(by='total', ascending=False)\n",
    "display(models)"
   ]
  },
  {
   "cell_type": "markdown",
   "metadata": {},
   "source": [
    "В данных 250 различных моделей. Пропуски можем принять за **other**."
   ]
  },
  {
   "cell_type": "code",
   "execution_count": 23,
   "metadata": {},
   "outputs": [],
   "source": [
    "autos['Model'] = autos['Model'].fillna('other')"
   ]
  },
  {
   "cell_type": "code",
   "execution_count": 24,
   "metadata": {},
   "outputs": [
    {
     "name": "stdout",
     "output_type": "stream",
     "text": [
      "Количество уникальных значений: 250\n"
     ]
    }
   ],
   "source": [
    "print('Количество уникальных значений:', autos['Model'].nunique())"
   ]
  },
  {
   "cell_type": "code",
   "execution_count": 25,
   "metadata": {},
   "outputs": [
    {
     "data": {
      "text/html": [
       "<div>\n",
       "<style scoped>\n",
       "    .dataframe tbody tr th:only-of-type {\n",
       "        vertical-align: middle;\n",
       "    }\n",
       "\n",
       "    .dataframe tbody tr th {\n",
       "        vertical-align: top;\n",
       "    }\n",
       "\n",
       "    .dataframe thead th {\n",
       "        text-align: right;\n",
       "    }\n",
       "</style>\n",
       "<table border=\"1\" class=\"dataframe\">\n",
       "  <thead>\n",
       "    <tr style=\"text-align: right;\">\n",
       "      <th></th>\n",
       "      <th>total</th>\n",
       "    </tr>\n",
       "    <tr>\n",
       "      <th>Model</th>\n",
       "      <th></th>\n",
       "    </tr>\n",
       "  </thead>\n",
       "  <tbody>\n",
       "    <tr>\n",
       "      <th>other</th>\n",
       "      <td>38599</td>\n",
       "    </tr>\n",
       "    <tr>\n",
       "      <th>golf</th>\n",
       "      <td>27757</td>\n",
       "    </tr>\n",
       "    <tr>\n",
       "      <th>3er</th>\n",
       "      <td>19086</td>\n",
       "    </tr>\n",
       "    <tr>\n",
       "      <th>polo</th>\n",
       "      <td>12334</td>\n",
       "    </tr>\n",
       "    <tr>\n",
       "      <th>corsa</th>\n",
       "      <td>11791</td>\n",
       "    </tr>\n",
       "    <tr>\n",
       "      <th>...</th>\n",
       "      <td>...</td>\n",
       "    </tr>\n",
       "    <tr>\n",
       "      <th>i3</th>\n",
       "      <td>7</td>\n",
       "    </tr>\n",
       "    <tr>\n",
       "      <th>rangerover</th>\n",
       "      <td>4</td>\n",
       "    </tr>\n",
       "    <tr>\n",
       "      <th>serie_3</th>\n",
       "      <td>3</td>\n",
       "    </tr>\n",
       "    <tr>\n",
       "      <th>range_rover_evoque</th>\n",
       "      <td>2</td>\n",
       "    </tr>\n",
       "    <tr>\n",
       "      <th>serie_1</th>\n",
       "      <td>1</td>\n",
       "    </tr>\n",
       "  </tbody>\n",
       "</table>\n",
       "<p>250 rows × 1 columns</p>\n",
       "</div>"
      ],
      "text/plain": [
       "                    total\n",
       "Model                    \n",
       "other               38599\n",
       "golf                27757\n",
       "3er                 19086\n",
       "polo                12334\n",
       "corsa               11791\n",
       "...                   ...\n",
       "i3                      7\n",
       "rangerover              4\n",
       "serie_3                 3\n",
       "range_rover_evoque      2\n",
       "serie_1                 1\n",
       "\n",
       "[250 rows x 1 columns]"
      ]
     },
     "metadata": {},
     "output_type": "display_data"
    }
   ],
   "source": [
    "models = autos.groupby('Model').agg(total=('Model', 'count')) \\\n",
    "                               .sort_values(by='total', ascending=False)\n",
    "display(models)"
   ]
  },
  {
   "cell_type": "code",
   "execution_count": 26,
   "metadata": {},
   "outputs": [
    {
     "data": {
      "text/plain": [
       "DateCrawled              0\n",
       "Price                    0\n",
       "VehicleType              0\n",
       "RegistrationYear         0\n",
       "Gearbox                  0\n",
       "Power                    0\n",
       "Model                    0\n",
       "Kilometer                0\n",
       "RegistrationMonth        0\n",
       "FuelType             23975\n",
       "Brand                    0\n",
       "Repaired             58366\n",
       "DateCreated              0\n",
       "NumberOfPictures         0\n",
       "PostalCode               0\n",
       "LastSeen                 0\n",
       "dtype: int64"
      ]
     },
     "execution_count": 26,
     "metadata": {},
     "output_type": "execute_result"
    }
   ],
   "source": [
    "autos.isna().sum()"
   ]
  },
  {
   "cell_type": "markdown",
   "metadata": {},
   "source": [
    "Осталось просмотреть на пропуски в `FuelType` и `Repaired`."
   ]
  },
  {
   "cell_type": "code",
   "execution_count": 27,
   "metadata": {},
   "outputs": [
    {
     "name": "stdout",
     "output_type": "stream",
     "text": [
      "Типы топлива: ['cng' 'electric' 'gasoline' 'hybrid' 'lpg' 'other' 'petrol' nan] \n",
      "\n",
      "Количество уникальных значений: 7\n"
     ]
    }
   ],
   "source": [
    "print('Типы топлива:', autos['FuelType'].sort_values().unique(), '\\n')\n",
    "print('Количество уникальных значений:', autos['FuelType'].nunique())"
   ]
  },
  {
   "cell_type": "code",
   "execution_count": 28,
   "metadata": {},
   "outputs": [
    {
     "data": {
      "text/html": [
       "<div>\n",
       "<style scoped>\n",
       "    .dataframe tbody tr th:only-of-type {\n",
       "        vertical-align: middle;\n",
       "    }\n",
       "\n",
       "    .dataframe tbody tr th {\n",
       "        vertical-align: top;\n",
       "    }\n",
       "\n",
       "    .dataframe thead th {\n",
       "        text-align: right;\n",
       "    }\n",
       "</style>\n",
       "<table border=\"1\" class=\"dataframe\">\n",
       "  <thead>\n",
       "    <tr style=\"text-align: right;\">\n",
       "      <th></th>\n",
       "      <th>total</th>\n",
       "    </tr>\n",
       "    <tr>\n",
       "      <th>FuelType</th>\n",
       "      <th></th>\n",
       "    </tr>\n",
       "  </thead>\n",
       "  <tbody>\n",
       "    <tr>\n",
       "      <th>cng</th>\n",
       "      <td>551</td>\n",
       "    </tr>\n",
       "    <tr>\n",
       "      <th>electric</th>\n",
       "      <td>78</td>\n",
       "    </tr>\n",
       "    <tr>\n",
       "      <th>gasoline</th>\n",
       "      <td>95126</td>\n",
       "    </tr>\n",
       "    <tr>\n",
       "      <th>hybrid</th>\n",
       "      <td>227</td>\n",
       "    </tr>\n",
       "    <tr>\n",
       "      <th>lpg</th>\n",
       "      <td>5174</td>\n",
       "    </tr>\n",
       "    <tr>\n",
       "      <th>other</th>\n",
       "      <td>150</td>\n",
       "    </tr>\n",
       "    <tr>\n",
       "      <th>petrol</th>\n",
       "      <td>209255</td>\n",
       "    </tr>\n",
       "  </tbody>\n",
       "</table>\n",
       "</div>"
      ],
      "text/plain": [
       "           total\n",
       "FuelType        \n",
       "cng          551\n",
       "electric      78\n",
       "gasoline   95126\n",
       "hybrid       227\n",
       "lpg         5174\n",
       "other        150\n",
       "petrol    209255"
      ]
     },
     "metadata": {},
     "output_type": "display_data"
    }
   ],
   "source": [
    "ft = autos.groupby('FuelType').agg(total=('FuelType', 'count'))\n",
    "display(ft)"
   ]
  },
  {
   "cell_type": "code",
   "execution_count": 29,
   "metadata": {},
   "outputs": [
    {
     "data": {
      "image/png": "[encoded data removed]",
      "text/plain": [
       "<Figure size 1080x504 with 1 Axes>"
      ]
     },
     "metadata": {},
     "output_type": "display_data"
    }
   ],
   "source": [
    "sns.set(style=\"darkgrid\")\n",
    "\n",
    "plt.figure(figsize=(15, 7))\n",
    "sns.barplot(\n",
    "    x=ft.index, \n",
    "    y='total', \n",
    "    data=ft, \n",
    "    estimator=sum, \n",
    "    ci=None, \n",
    "    color='#69b3a2');\n",
    "plt.title('Распределение типов топлива');\n",
    "plt.xlabel('Тип топлива');\n",
    "plt.ylabel('Колличество');"
   ]
  },
  {
   "cell_type": "markdown",
   "metadata": {},
   "source": [
    "Пропуски в `FuelType` примем за **other**."
   ]
  },
  {
   "cell_type": "code",
   "execution_count": 33,
   "metadata": {},
   "outputs": [],
   "source": [
    "autos['FuelType'] = autos['FuelType'].fillna('other')"
   ]
  },
  {
   "cell_type": "code",
   "execution_count": 34,
   "metadata": {},
   "outputs": [
    {
     "data": {
      "text/html": [
       "<div>\n",
       "<style scoped>\n",
       "    .dataframe tbody tr th:only-of-type {\n",
       "        vertical-align: middle;\n",
       "    }\n",
       "\n",
       "    .dataframe tbody tr th {\n",
       "        vertical-align: top;\n",
       "    }\n",
       "\n",
       "    .dataframe thead th {\n",
       "        text-align: right;\n",
       "    }\n",
       "</style>\n",
       "<table border=\"1\" class=\"dataframe\">\n",
       "  <thead>\n",
       "    <tr style=\"text-align: right;\">\n",
       "      <th></th>\n",
       "      <th>total</th>\n",
       "    </tr>\n",
       "    <tr>\n",
       "      <th>FuelType</th>\n",
       "      <th></th>\n",
       "    </tr>\n",
       "  </thead>\n",
       "  <tbody>\n",
       "    <tr>\n",
       "      <th>cng</th>\n",
       "      <td>551</td>\n",
       "    </tr>\n",
       "    <tr>\n",
       "      <th>electric</th>\n",
       "      <td>78</td>\n",
       "    </tr>\n",
       "    <tr>\n",
       "      <th>gasoline</th>\n",
       "      <td>95126</td>\n",
       "    </tr>\n",
       "    <tr>\n",
       "      <th>hybrid</th>\n",
       "      <td>227</td>\n",
       "    </tr>\n",
       "    <tr>\n",
       "      <th>lpg</th>\n",
       "      <td>5174</td>\n",
       "    </tr>\n",
       "    <tr>\n",
       "      <th>other</th>\n",
       "      <td>24125</td>\n",
       "    </tr>\n",
       "    <tr>\n",
       "      <th>petrol</th>\n",
       "      <td>209255</td>\n",
       "    </tr>\n",
       "  </tbody>\n",
       "</table>\n",
       "</div>"
      ],
      "text/plain": [
       "           total\n",
       "FuelType        \n",
       "cng          551\n",
       "electric      78\n",
       "gasoline   95126\n",
       "hybrid       227\n",
       "lpg         5174\n",
       "other      24125\n",
       "petrol    209255"
      ]
     },
     "metadata": {},
     "output_type": "display_data"
    }
   ],
   "source": [
    "ft = autos.groupby('FuelType').agg(total=('FuelType', 'count'))\n",
    "display(ft)"
   ]
  },
  {
   "cell_type": "code",
   "execution_count": 35,
   "metadata": {},
   "outputs": [
    {
     "data": {
      "image/png": "[encoded data removed]",
      "text/plain": [
       "<Figure size 1080x504 with 1 Axes>"
      ]
     },
     "metadata": {},
     "output_type": "display_data"
    }
   ],
   "source": [
    "sns.set(style=\"darkgrid\")\n",
    "\n",
    "plt.figure(figsize=(15, 7))\n",
    "sns.barplot(\n",
    "    x=ft.index, \n",
    "    y='total', \n",
    "    data=ft, \n",
    "    estimator=sum, \n",
    "    ci=None, \n",
    "    color='#69b3a2');\n",
    "plt.title('Распределение типов топлива');\n",
    "plt.xlabel('Тип топлива');\n",
    "plt.ylabel('Колличество');"
   ]
  },
  {
   "cell_type": "code",
   "execution_count": 36,
   "metadata": {},
   "outputs": [
    {
     "data": {
      "text/plain": [
       "DateCrawled              0\n",
       "Price                    0\n",
       "VehicleType              0\n",
       "RegistrationYear         0\n",
       "Gearbox                  0\n",
       "Power                    0\n",
       "Model                    0\n",
       "Kilometer                0\n",
       "RegistrationMonth        0\n",
       "FuelType                 0\n",
       "Brand                    0\n",
       "Repaired             58366\n",
       "DateCreated              0\n",
       "NumberOfPictures         0\n",
       "PostalCode               0\n",
       "LastSeen                 0\n",
       "dtype: int64"
      ]
     },
     "execution_count": 36,
     "metadata": {},
     "output_type": "execute_result"
    }
   ],
   "source": [
    "autos.isna().sum()"
   ]
  },
  {
   "cell_type": "markdown",
   "metadata": {},
   "source": [
    "Осталась одна колонка с пропусками `Repaired`."
   ]
  },
  {
   "cell_type": "code",
   "execution_count": 37,
   "metadata": {},
   "outputs": [
    {
     "name": "stdout",
     "output_type": "stream",
     "text": [
      "Типы топлива: ['no' 'yes' nan] \n",
      "\n",
      "Количество уникальных значений: 2\n"
     ]
    }
   ],
   "source": [
    "print('Типы топлива:', autos['Repaired'].sort_values().unique(), '\\n')\n",
    "print('Количество уникальных значений:', autos['Repaired'].nunique())"
   ]
  },
  {
   "cell_type": "code",
   "execution_count": 38,
   "metadata": {},
   "outputs": [
    {
     "data": {
      "text/html": [
       "<div>\n",
       "<style scoped>\n",
       "    .dataframe tbody tr th:only-of-type {\n",
       "        vertical-align: middle;\n",
       "    }\n",
       "\n",
       "    .dataframe tbody tr th {\n",
       "        vertical-align: top;\n",
       "    }\n",
       "\n",
       "    .dataframe thead th {\n",
       "        text-align: right;\n",
       "    }\n",
       "</style>\n",
       "<table border=\"1\" class=\"dataframe\">\n",
       "  <thead>\n",
       "    <tr style=\"text-align: right;\">\n",
       "      <th></th>\n",
       "      <th>total</th>\n",
       "    </tr>\n",
       "    <tr>\n",
       "      <th>Repaired</th>\n",
       "      <th></th>\n",
       "    </tr>\n",
       "  </thead>\n",
       "  <tbody>\n",
       "    <tr>\n",
       "      <th>no</th>\n",
       "      <td>241629</td>\n",
       "    </tr>\n",
       "    <tr>\n",
       "      <th>yes</th>\n",
       "      <td>34541</td>\n",
       "    </tr>\n",
       "  </tbody>\n",
       "</table>\n",
       "</div>"
      ],
      "text/plain": [
       "           total\n",
       "Repaired        \n",
       "no        241629\n",
       "yes        34541"
      ]
     },
     "execution_count": 38,
     "metadata": {},
     "output_type": "execute_result"
    }
   ],
   "source": [
    "autos.groupby('Repaired').agg(total=('Repaired', 'count'))"
   ]
  },
  {
   "cell_type": "code",
   "execution_count": 39,
   "metadata": {},
   "outputs": [
    {
     "name": "stdout",
     "output_type": "stream",
     "text": [
      "no     0.874928\n",
      "yes    0.125072\n",
      "Name: Repaired, dtype: float64\n"
     ]
    },
    {
     "data": {
      "image/png": "[encoded data removed]",
      "text/plain": [
       "<Figure size 432x288 with 1 Axes>"
      ]
     },
     "metadata": {},
     "output_type": "display_data"
    }
   ],
   "source": [
    "rep_frequency = autos['Repaired'].value_counts(normalize=True)\n",
    "print(rep_frequency)\n",
    "rep_frequency.plot(kind='bar');"
   ]
  },
  {
   "cell_type": "markdown",
   "metadata": {},
   "source": [
    "`Repaired` содержит два типа значений: **no** (87%) и **yes** (13%). Пропусков очень много и заполнение одним из этих значений может исказить конечный результат, поэтому пропускам присвоим значение **unknown**."
   ]
  },
  {
   "cell_type": "code",
   "execution_count": 40,
   "metadata": {},
   "outputs": [],
   "source": [
    "autos['Repaired'] = autos['Repaired'].fillna('unknown')"
   ]
  },
  {
   "cell_type": "code",
   "execution_count": 41,
   "metadata": {},
   "outputs": [
    {
     "data": {
      "text/html": [
       "<div>\n",
       "<style scoped>\n",
       "    .dataframe tbody tr th:only-of-type {\n",
       "        vertical-align: middle;\n",
       "    }\n",
       "\n",
       "    .dataframe tbody tr th {\n",
       "        vertical-align: top;\n",
       "    }\n",
       "\n",
       "    .dataframe thead th {\n",
       "        text-align: right;\n",
       "    }\n",
       "</style>\n",
       "<table border=\"1\" class=\"dataframe\">\n",
       "  <thead>\n",
       "    <tr style=\"text-align: right;\">\n",
       "      <th></th>\n",
       "      <th>total</th>\n",
       "    </tr>\n",
       "    <tr>\n",
       "      <th>Repaired</th>\n",
       "      <th></th>\n",
       "    </tr>\n",
       "  </thead>\n",
       "  <tbody>\n",
       "    <tr>\n",
       "      <th>no</th>\n",
       "      <td>241629</td>\n",
       "    </tr>\n",
       "    <tr>\n",
       "      <th>unknown</th>\n",
       "      <td>58366</td>\n",
       "    </tr>\n",
       "    <tr>\n",
       "      <th>yes</th>\n",
       "      <td>34541</td>\n",
       "    </tr>\n",
       "  </tbody>\n",
       "</table>\n",
       "</div>"
      ],
      "text/plain": [
       "           total\n",
       "Repaired        \n",
       "no        241629\n",
       "unknown    58366\n",
       "yes        34541"
      ]
     },
     "execution_count": 41,
     "metadata": {},
     "output_type": "execute_result"
    }
   ],
   "source": [
    "autos.groupby('Repaired').agg(total=('Repaired', 'count'))"
   ]
  },
  {
   "cell_type": "code",
   "execution_count": 42,
   "metadata": {},
   "outputs": [
    {
     "name": "stdout",
     "output_type": "stream",
     "text": [
      "no         0.722281\n",
      "unknown    0.174469\n",
      "yes        0.103250\n",
      "Name: Repaired, dtype: float64\n"
     ]
    },
    {
     "data": {
      "image/png": "[encoded data removed]",
      "text/plain": [
       "<Figure size 432x288 with 1 Axes>"
      ]
     },
     "metadata": {},
     "output_type": "display_data"
    }
   ],
   "source": [
    "rep_frequency = autos['Repaired'].value_counts(normalize=True)\n",
    "print(rep_frequency)\n",
    "rep_frequency.plot(kind='bar');"
   ]
  },
  {
   "cell_type": "code",
   "execution_count": 43,
   "metadata": {},
   "outputs": [
    {
     "data": {
      "text/plain": [
       "DateCrawled          0\n",
       "Price                0\n",
       "VehicleType          0\n",
       "RegistrationYear     0\n",
       "Gearbox              0\n",
       "Power                0\n",
       "Model                0\n",
       "Kilometer            0\n",
       "RegistrationMonth    0\n",
       "FuelType             0\n",
       "Brand                0\n",
       "Repaired             0\n",
       "DateCreated          0\n",
       "NumberOfPictures     0\n",
       "PostalCode           0\n",
       "LastSeen             0\n",
       "dtype: int64"
      ]
     },
     "execution_count": 43,
     "metadata": {},
     "output_type": "execute_result"
    }
   ],
   "source": [
    "autos.isna().sum()"
   ]
  },
  {
   "cell_type": "code",
   "execution_count": 44,
   "metadata": {},
   "outputs": [
    {
     "data": {
      "text/plain": [
       "'94.40%'"
      ]
     },
     "execution_count": 44,
     "metadata": {},
     "output_type": "execute_result"
    }
   ],
   "source": [
    "check_del(autos)"
   ]
  },
  {
   "cell_type": "markdown",
   "metadata": {},
   "source": [
    "**Выводы по работе с пропусками**\n",
    "\n",
    "Проверили датасет на наличие пропусков. Нашли пропуски в 5 столбцах: `VehicleType`, `Gearbox`, `Model`, `FuelType` и `Repaired`.\n",
    "\n",
    "- В `VehicleType` и `Repaired` пропуски заполнили значением **unknown** тем самым добавив новую категорию.\n",
    "- Пропуски в `Gearbox` пришлось удалить из-за невозможности их корректно восстановить.\n",
    "- В `Model` и `FuelType` пропуски приняли за значение **other** которое уже существовало в этих столбцах.\n",
    "\n",
    "В итоге избавились от пропущенных значений. На данный момент у нас осталось 94.4% от изначальных данных."
   ]
  },
  {
   "cell_type": "code",
   "execution_count": 45,
   "metadata": {},
   "outputs": [],
   "source": [
    "report = ProfileReport(autos)"
   ]
  },
  {
   "cell_type": "markdown",
   "metadata": {},
   "source": [
    "<a id='dublicated'></a>\n",
    "### Дубликаты\n",
    "\n",
    "Проверим датасет на наличие дубликатов.\n",
    "\n",
    "**Явные дубликаты**"
   ]
  },
  {
   "cell_type": "code",
   "execution_count": 47,
   "metadata": {},
   "outputs": [
    {
     "data": {
      "text/plain": [
       "4"
      ]
     },
     "execution_count": 47,
     "metadata": {},
     "output_type": "execute_result"
    }
   ],
   "source": [
    "autos.duplicated().sum()"
   ]
  },
  {
   "cell_type": "code",
   "execution_count": 48,
   "metadata": {},
   "outputs": [
    {
     "data": {
      "text/html": [
       "<div>\n",
       "<style scoped>\n",
       "    .dataframe tbody tr th:only-of-type {\n",
       "        vertical-align: middle;\n",
       "    }\n",
       "\n",
       "    .dataframe tbody tr th {\n",
       "        vertical-align: top;\n",
       "    }\n",
       "\n",
       "    .dataframe thead th {\n",
       "        text-align: right;\n",
       "    }\n",
       "</style>\n",
       "<table border=\"1\" class=\"dataframe\">\n",
       "  <thead>\n",
       "    <tr style=\"text-align: right;\">\n",
       "      <th></th>\n",
       "      <th>DateCrawled</th>\n",
       "      <th>Price</th>\n",
       "      <th>VehicleType</th>\n",
       "      <th>RegistrationYear</th>\n",
       "      <th>Gearbox</th>\n",
       "      <th>Power</th>\n",
       "      <th>Model</th>\n",
       "      <th>Kilometer</th>\n",
       "      <th>RegistrationMonth</th>\n",
       "      <th>FuelType</th>\n",
       "      <th>Brand</th>\n",
       "      <th>Repaired</th>\n",
       "      <th>DateCreated</th>\n",
       "      <th>NumberOfPictures</th>\n",
       "      <th>PostalCode</th>\n",
       "      <th>LastSeen</th>\n",
       "    </tr>\n",
       "  </thead>\n",
       "  <tbody>\n",
       "    <tr>\n",
       "      <th>161525</th>\n",
       "      <td>2016-03-08 18:42:48</td>\n",
       "      <td>1799</td>\n",
       "      <td>coupe</td>\n",
       "      <td>1999</td>\n",
       "      <td>auto</td>\n",
       "      <td>193</td>\n",
       "      <td>clk</td>\n",
       "      <td>20000</td>\n",
       "      <td>7</td>\n",
       "      <td>petrol</td>\n",
       "      <td>mercedes_benz</td>\n",
       "      <td>no</td>\n",
       "      <td>2016-03-08 00:00:00</td>\n",
       "      <td>0</td>\n",
       "      <td>89518</td>\n",
       "      <td>2016-03-09 09:46:57</td>\n",
       "    </tr>\n",
       "    <tr>\n",
       "      <th>218321</th>\n",
       "      <td>2016-03-28 00:56:10</td>\n",
       "      <td>1000</td>\n",
       "      <td>small</td>\n",
       "      <td>2002</td>\n",
       "      <td>manual</td>\n",
       "      <td>83</td>\n",
       "      <td>other</td>\n",
       "      <td>150000</td>\n",
       "      <td>1</td>\n",
       "      <td>petrol</td>\n",
       "      <td>suzuki</td>\n",
       "      <td>no</td>\n",
       "      <td>2016-03-28 00:00:00</td>\n",
       "      <td>0</td>\n",
       "      <td>66589</td>\n",
       "      <td>2016-03-28 08:46:21</td>\n",
       "    </tr>\n",
       "    <tr>\n",
       "      <th>243688</th>\n",
       "      <td>2016-04-03 09:01:15</td>\n",
       "      <td>4699</td>\n",
       "      <td>coupe</td>\n",
       "      <td>2003</td>\n",
       "      <td>auto</td>\n",
       "      <td>218</td>\n",
       "      <td>clk</td>\n",
       "      <td>125000</td>\n",
       "      <td>6</td>\n",
       "      <td>petrol</td>\n",
       "      <td>mercedes_benz</td>\n",
       "      <td>yes</td>\n",
       "      <td>2016-04-03 00:00:00</td>\n",
       "      <td>0</td>\n",
       "      <td>75196</td>\n",
       "      <td>2016-04-07 09:44:54</td>\n",
       "    </tr>\n",
       "    <tr>\n",
       "      <th>307422</th>\n",
       "      <td>2016-03-18 18:46:15</td>\n",
       "      <td>1999</td>\n",
       "      <td>wagon</td>\n",
       "      <td>2001</td>\n",
       "      <td>manual</td>\n",
       "      <td>131</td>\n",
       "      <td>passat</td>\n",
       "      <td>150000</td>\n",
       "      <td>7</td>\n",
       "      <td>gasoline</td>\n",
       "      <td>volkswagen</td>\n",
       "      <td>no</td>\n",
       "      <td>2016-03-18 00:00:00</td>\n",
       "      <td>0</td>\n",
       "      <td>36391</td>\n",
       "      <td>2016-03-18 18:46:15</td>\n",
       "    </tr>\n",
       "  </tbody>\n",
       "</table>\n",
       "</div>"
      ],
      "text/plain": [
       "                DateCrawled  Price VehicleType  RegistrationYear Gearbox  \\\n",
       "161525  2016-03-08 18:42:48   1799       coupe              1999    auto   \n",
       "218321  2016-03-28 00:56:10   1000       small              2002  manual   \n",
       "243688  2016-04-03 09:01:15   4699       coupe              2003    auto   \n",
       "307422  2016-03-18 18:46:15   1999       wagon              2001  manual   \n",
       "\n",
       "        Power   Model  Kilometer  RegistrationMonth  FuelType          Brand  \\\n",
       "161525    193     clk      20000                  7    petrol  mercedes_benz   \n",
       "218321     83   other     150000                  1    petrol         suzuki   \n",
       "243688    218     clk     125000                  6    petrol  mercedes_benz   \n",
       "307422    131  passat     150000                  7  gasoline     volkswagen   \n",
       "\n",
       "       Repaired          DateCreated  NumberOfPictures  PostalCode  \\\n",
       "161525       no  2016-03-08 00:00:00                 0       89518   \n",
       "218321       no  2016-03-28 00:00:00                 0       66589   \n",
       "243688      yes  2016-04-03 00:00:00                 0       75196   \n",
       "307422       no  2016-03-18 00:00:00                 0       36391   \n",
       "\n",
       "                   LastSeen  \n",
       "161525  2016-03-09 09:46:57  \n",
       "218321  2016-03-28 08:46:21  \n",
       "243688  2016-04-07 09:44:54  \n",
       "307422  2016-03-18 18:46:15  "
      ]
     },
     "execution_count": 48,
     "metadata": {},
     "output_type": "execute_result"
    }
   ],
   "source": [
    "autos[autos.duplicated()]"
   ]
  },
  {
   "cell_type": "markdown",
   "metadata": {},
   "source": [
    "Нашли 4 явных дубликата, удалим их."
   ]
  },
  {
   "cell_type": "code",
   "execution_count": 49,
   "metadata": {},
   "outputs": [],
   "source": [
    "autos = autos.drop_duplicates()"
   ]
  },
  {
   "cell_type": "code",
   "execution_count": 50,
   "metadata": {},
   "outputs": [
    {
     "data": {
      "text/plain": [
       "0"
      ]
     },
     "execution_count": 50,
     "metadata": {},
     "output_type": "execute_result"
    }
   ],
   "source": [
    "autos.duplicated().sum()"
   ]
  },
  {
   "cell_type": "markdown",
   "metadata": {},
   "source": [
    "Удалили явные дубликаты.\n",
    "\n",
    "**Неявные дубликаты**\n",
    "\n",
    "Теперь проверим есть ли неявные дубликаты. Мы уже посмотрели на столбцы `VehicleType`, `Gearbox`, `Model`, `FuelType` и `Repaired` при работе с пропусками и дубликатов там не было. Осталось посмотреть на столбец `Brand` там могут быть дубликаты из-за ошибок при заполнении анкеты."
   ]
  },
  {
   "cell_type": "code",
   "execution_count": 51,
   "metadata": {},
   "outputs": [
    {
     "name": "stdout",
     "output_type": "stream",
     "text": [
      "Бренд: ['alfa_romeo' 'audi' 'bmw' 'chevrolet' 'chrysler' 'citroen' 'dacia'\n",
      " 'daewoo' 'daihatsu' 'fiat' 'ford' 'honda' 'hyundai' 'jaguar' 'jeep' 'kia'\n",
      " 'lada' 'lancia' 'land_rover' 'mazda' 'mercedes_benz' 'mini' 'mitsubishi'\n",
      " 'nissan' 'opel' 'peugeot' 'porsche' 'renault' 'rover' 'saab' 'seat'\n",
      " 'skoda' 'smart' 'sonstige_autos' 'subaru' 'suzuki' 'toyota' 'trabant'\n",
      " 'volkswagen' 'volvo'] \n",
      "\n",
      "Количество уникальных значений: 40\n"
     ]
    }
   ],
   "source": [
    "print('Бренд:', autos['Brand'].sort_values().unique(), '\\n')\n",
    "print('Количество уникальных значений:', autos['Brand'].nunique())"
   ]
  },
  {
   "cell_type": "markdown",
   "metadata": {},
   "source": [
    "Значения выглядят корректно, дубликатов нет."
   ]
  },
  {
   "cell_type": "markdown",
   "metadata": {},
   "source": [
    "**Выводы по работе с дубликатами**\n",
    "\n",
    "Проверили наличие явных и неявных дубликатов. Нашли 4 явных дубликата и удалили их. 6 столбцов (`VehicleType`, `Gearbox`, `Model`, `FuelType`, `Repaired`, `Brand`) потенциально могли содержить неявные дубликаты. Проверив их мы убедились в их отсутсвии."
   ]
  },
  {
   "cell_type": "markdown",
   "metadata": {},
   "source": [
    "<a id='anomalies'></a>\n",
    "### Аномалии\n",
    "\n",
    "Проверим данные на наличие аномалий.\n",
    "\n",
    "Начнём с `Price`."
   ]
  },
  {
   "cell_type": "code",
   "execution_count": 52,
   "metadata": {},
   "outputs": [
    {
     "data": {
      "text/plain": [
       "count    334532.000000\n",
       "mean       4547.723279\n",
       "std        4551.149833\n",
       "min           0.000000\n",
       "25%        1150.000000\n",
       "50%        2850.000000\n",
       "75%        6500.000000\n",
       "max       20000.000000\n",
       "Name: Price, dtype: float64"
      ]
     },
     "execution_count": 52,
     "metadata": {},
     "output_type": "execute_result"
    }
   ],
   "source": [
    "autos['Price'].describe()"
   ]
  },
  {
   "cell_type": "markdown",
   "metadata": {},
   "source": [
    "В данном стобце не должно быть значений 0. Рассмотрим детальней этот момент."
   ]
  },
  {
   "cell_type": "code",
   "execution_count": 53,
   "metadata": {},
   "outputs": [
    {
     "data": {
      "text/plain": [
       "8294"
      ]
     },
     "execution_count": 53,
     "metadata": {},
     "output_type": "execute_result"
    }
   ],
   "source": [
    "(autos.query('Price == 0')).shape[0]"
   ]
  },
  {
   "cell_type": "code",
   "execution_count": 54,
   "metadata": {},
   "outputs": [
    {
     "data": {
      "text/html": [
       "<div>\n",
       "<style scoped>\n",
       "    .dataframe tbody tr th:only-of-type {\n",
       "        vertical-align: middle;\n",
       "    }\n",
       "\n",
       "    .dataframe tbody tr th {\n",
       "        vertical-align: top;\n",
       "    }\n",
       "\n",
       "    .dataframe thead th {\n",
       "        text-align: right;\n",
       "    }\n",
       "</style>\n",
       "<table border=\"1\" class=\"dataframe\">\n",
       "  <thead>\n",
       "    <tr style=\"text-align: right;\">\n",
       "      <th></th>\n",
       "      <th>DateCrawled</th>\n",
       "      <th>Price</th>\n",
       "      <th>VehicleType</th>\n",
       "      <th>RegistrationYear</th>\n",
       "      <th>Gearbox</th>\n",
       "      <th>Power</th>\n",
       "      <th>Model</th>\n",
       "      <th>Kilometer</th>\n",
       "      <th>RegistrationMonth</th>\n",
       "      <th>FuelType</th>\n",
       "      <th>Brand</th>\n",
       "      <th>Repaired</th>\n",
       "      <th>DateCreated</th>\n",
       "      <th>NumberOfPictures</th>\n",
       "      <th>PostalCode</th>\n",
       "      <th>LastSeen</th>\n",
       "    </tr>\n",
       "  </thead>\n",
       "  <tbody>\n",
       "    <tr>\n",
       "      <th>7</th>\n",
       "      <td>2016-03-21 18:54:38</td>\n",
       "      <td>0</td>\n",
       "      <td>sedan</td>\n",
       "      <td>1980</td>\n",
       "      <td>manual</td>\n",
       "      <td>50</td>\n",
       "      <td>other</td>\n",
       "      <td>40000</td>\n",
       "      <td>7</td>\n",
       "      <td>petrol</td>\n",
       "      <td>volkswagen</td>\n",
       "      <td>no</td>\n",
       "      <td>2016-03-21 00:00:00</td>\n",
       "      <td>0</td>\n",
       "      <td>19348</td>\n",
       "      <td>2016-03-25 16:47:58</td>\n",
       "    </tr>\n",
       "    <tr>\n",
       "      <th>54</th>\n",
       "      <td>2016-03-29 15:48:15</td>\n",
       "      <td>1</td>\n",
       "      <td>suv</td>\n",
       "      <td>1994</td>\n",
       "      <td>manual</td>\n",
       "      <td>286</td>\n",
       "      <td>other</td>\n",
       "      <td>150000</td>\n",
       "      <td>11</td>\n",
       "      <td>other</td>\n",
       "      <td>sonstige_autos</td>\n",
       "      <td>unknown</td>\n",
       "      <td>2016-03-29 00:00:00</td>\n",
       "      <td>0</td>\n",
       "      <td>53721</td>\n",
       "      <td>2016-04-06 01:44:38</td>\n",
       "    </tr>\n",
       "    <tr>\n",
       "      <th>83</th>\n",
       "      <td>2016-03-28 09:37:01</td>\n",
       "      <td>1</td>\n",
       "      <td>sedan</td>\n",
       "      <td>1995</td>\n",
       "      <td>manual</td>\n",
       "      <td>113</td>\n",
       "      <td>e_klasse</td>\n",
       "      <td>150000</td>\n",
       "      <td>4</td>\n",
       "      <td>gasoline</td>\n",
       "      <td>mercedes_benz</td>\n",
       "      <td>no</td>\n",
       "      <td>2016-03-28 00:00:00</td>\n",
       "      <td>0</td>\n",
       "      <td>40589</td>\n",
       "      <td>2016-04-06 12:15:54</td>\n",
       "    </tr>\n",
       "    <tr>\n",
       "      <th>102</th>\n",
       "      <td>2016-03-19 18:40:12</td>\n",
       "      <td>0</td>\n",
       "      <td>unknown</td>\n",
       "      <td>2017</td>\n",
       "      <td>manual</td>\n",
       "      <td>0</td>\n",
       "      <td>golf</td>\n",
       "      <td>5000</td>\n",
       "      <td>12</td>\n",
       "      <td>petrol</td>\n",
       "      <td>volkswagen</td>\n",
       "      <td>unknown</td>\n",
       "      <td>2016-03-19 00:00:00</td>\n",
       "      <td>0</td>\n",
       "      <td>21698</td>\n",
       "      <td>2016-04-01 08:47:05</td>\n",
       "    </tr>\n",
       "    <tr>\n",
       "      <th>139</th>\n",
       "      <td>2016-03-11 18:55:53</td>\n",
       "      <td>0</td>\n",
       "      <td>bus</td>\n",
       "      <td>2004</td>\n",
       "      <td>manual</td>\n",
       "      <td>101</td>\n",
       "      <td>meriva</td>\n",
       "      <td>150000</td>\n",
       "      <td>10</td>\n",
       "      <td>lpg</td>\n",
       "      <td>opel</td>\n",
       "      <td>yes</td>\n",
       "      <td>2016-03-11 00:00:00</td>\n",
       "      <td>0</td>\n",
       "      <td>27432</td>\n",
       "      <td>2016-03-12 23:47:10</td>\n",
       "    </tr>\n",
       "    <tr>\n",
       "      <th>...</th>\n",
       "      <td>...</td>\n",
       "      <td>...</td>\n",
       "      <td>...</td>\n",
       "      <td>...</td>\n",
       "      <td>...</td>\n",
       "      <td>...</td>\n",
       "      <td>...</td>\n",
       "      <td>...</td>\n",
       "      <td>...</td>\n",
       "      <td>...</td>\n",
       "      <td>...</td>\n",
       "      <td>...</td>\n",
       "      <td>...</td>\n",
       "      <td>...</td>\n",
       "      <td>...</td>\n",
       "      <td>...</td>\n",
       "    </tr>\n",
       "    <tr>\n",
       "      <th>334413</th>\n",
       "      <td>2016-03-20 14:55:07</td>\n",
       "      <td>0</td>\n",
       "      <td>small</td>\n",
       "      <td>2002</td>\n",
       "      <td>manual</td>\n",
       "      <td>60</td>\n",
       "      <td>fiesta</td>\n",
       "      <td>150000</td>\n",
       "      <td>3</td>\n",
       "      <td>petrol</td>\n",
       "      <td>ford</td>\n",
       "      <td>unknown</td>\n",
       "      <td>2016-03-20 00:00:00</td>\n",
       "      <td>0</td>\n",
       "      <td>33659</td>\n",
       "      <td>2016-04-06 18:45:23</td>\n",
       "    </tr>\n",
       "    <tr>\n",
       "      <th>334423</th>\n",
       "      <td>2016-03-24 13:48:05</td>\n",
       "      <td>0</td>\n",
       "      <td>small</td>\n",
       "      <td>1999</td>\n",
       "      <td>manual</td>\n",
       "      <td>53</td>\n",
       "      <td>swift</td>\n",
       "      <td>150000</td>\n",
       "      <td>3</td>\n",
       "      <td>petrol</td>\n",
       "      <td>suzuki</td>\n",
       "      <td>unknown</td>\n",
       "      <td>2016-03-24 00:00:00</td>\n",
       "      <td>0</td>\n",
       "      <td>42329</td>\n",
       "      <td>2016-04-07 05:17:24</td>\n",
       "    </tr>\n",
       "    <tr>\n",
       "      <th>334450</th>\n",
       "      <td>2016-03-10 22:55:50</td>\n",
       "      <td>0</td>\n",
       "      <td>small</td>\n",
       "      <td>1999</td>\n",
       "      <td>manual</td>\n",
       "      <td>37</td>\n",
       "      <td>arosa</td>\n",
       "      <td>150000</td>\n",
       "      <td>7</td>\n",
       "      <td>petrol</td>\n",
       "      <td>seat</td>\n",
       "      <td>yes</td>\n",
       "      <td>2016-03-10 00:00:00</td>\n",
       "      <td>0</td>\n",
       "      <td>22559</td>\n",
       "      <td>2016-03-12 23:46:32</td>\n",
       "    </tr>\n",
       "    <tr>\n",
       "      <th>334479</th>\n",
       "      <td>2016-03-09 22:37:41</td>\n",
       "      <td>99</td>\n",
       "      <td>small</td>\n",
       "      <td>1999</td>\n",
       "      <td>manual</td>\n",
       "      <td>60</td>\n",
       "      <td>arosa</td>\n",
       "      <td>150000</td>\n",
       "      <td>1</td>\n",
       "      <td>petrol</td>\n",
       "      <td>seat</td>\n",
       "      <td>yes</td>\n",
       "      <td>2016-03-09 00:00:00</td>\n",
       "      <td>0</td>\n",
       "      <td>91301</td>\n",
       "      <td>2016-04-06 22:15:32</td>\n",
       "    </tr>\n",
       "    <tr>\n",
       "      <th>334532</th>\n",
       "      <td>2016-03-21 09:50:58</td>\n",
       "      <td>0</td>\n",
       "      <td>unknown</td>\n",
       "      <td>2005</td>\n",
       "      <td>manual</td>\n",
       "      <td>0</td>\n",
       "      <td>colt</td>\n",
       "      <td>150000</td>\n",
       "      <td>7</td>\n",
       "      <td>petrol</td>\n",
       "      <td>mitsubishi</td>\n",
       "      <td>yes</td>\n",
       "      <td>2016-03-21 00:00:00</td>\n",
       "      <td>0</td>\n",
       "      <td>2694</td>\n",
       "      <td>2016-03-21 10:42:49</td>\n",
       "    </tr>\n",
       "  </tbody>\n",
       "</table>\n",
       "<p>10597 rows × 16 columns</p>\n",
       "</div>"
      ],
      "text/plain": [
       "                DateCrawled  Price VehicleType  RegistrationYear Gearbox  \\\n",
       "7       2016-03-21 18:54:38      0       sedan              1980  manual   \n",
       "54      2016-03-29 15:48:15      1         suv              1994  manual   \n",
       "83      2016-03-28 09:37:01      1       sedan              1995  manual   \n",
       "102     2016-03-19 18:40:12      0     unknown              2017  manual   \n",
       "139     2016-03-11 18:55:53      0         bus              2004  manual   \n",
       "...                     ...    ...         ...               ...     ...   \n",
       "334413  2016-03-20 14:55:07      0       small              2002  manual   \n",
       "334423  2016-03-24 13:48:05      0       small              1999  manual   \n",
       "334450  2016-03-10 22:55:50      0       small              1999  manual   \n",
       "334479  2016-03-09 22:37:41     99       small              1999  manual   \n",
       "334532  2016-03-21 09:50:58      0     unknown              2005  manual   \n",
       "\n",
       "        Power     Model  Kilometer  RegistrationMonth  FuelType  \\\n",
       "7          50     other      40000                  7    petrol   \n",
       "54        286     other     150000                 11     other   \n",
       "83        113  e_klasse     150000                  4  gasoline   \n",
       "102         0      golf       5000                 12    petrol   \n",
       "139       101    meriva     150000                 10       lpg   \n",
       "...       ...       ...        ...                ...       ...   \n",
       "334413     60    fiesta     150000                  3    petrol   \n",
       "334423     53     swift     150000                  3    petrol   \n",
       "334450     37     arosa     150000                  7    petrol   \n",
       "334479     60     arosa     150000                  1    petrol   \n",
       "334532      0      colt     150000                  7    petrol   \n",
       "\n",
       "                 Brand Repaired          DateCreated  NumberOfPictures  \\\n",
       "7           volkswagen       no  2016-03-21 00:00:00                 0   \n",
       "54      sonstige_autos  unknown  2016-03-29 00:00:00                 0   \n",
       "83       mercedes_benz       no  2016-03-28 00:00:00                 0   \n",
       "102         volkswagen  unknown  2016-03-19 00:00:00                 0   \n",
       "139               opel      yes  2016-03-11 00:00:00                 0   \n",
       "...                ...      ...                  ...               ...   \n",
       "334413            ford  unknown  2016-03-20 00:00:00                 0   \n",
       "334423          suzuki  unknown  2016-03-24 00:00:00                 0   \n",
       "334450            seat      yes  2016-03-10 00:00:00                 0   \n",
       "334479            seat      yes  2016-03-09 00:00:00                 0   \n",
       "334532      mitsubishi      yes  2016-03-21 00:00:00                 0   \n",
       "\n",
       "        PostalCode             LastSeen  \n",
       "7            19348  2016-03-25 16:47:58  \n",
       "54           53721  2016-04-06 01:44:38  \n",
       "83           40589  2016-04-06 12:15:54  \n",
       "102          21698  2016-04-01 08:47:05  \n",
       "139          27432  2016-03-12 23:47:10  \n",
       "...            ...                  ...  \n",
       "334413       33659  2016-04-06 18:45:23  \n",
       "334423       42329  2016-04-07 05:17:24  \n",
       "334450       22559  2016-03-12 23:46:32  \n",
       "334479       91301  2016-04-06 22:15:32  \n",
       "334532        2694  2016-03-21 10:42:49  \n",
       "\n",
       "[10597 rows x 16 columns]"
      ]
     },
     "execution_count": 54,
     "metadata": {},
     "output_type": "execute_result"
    }
   ],
   "source": [
    "autos.query('Price <= 100')"
   ]
  },
  {
   "cell_type": "markdown",
   "metadata": {},
   "source": [
    "Нашли 8294 строки с нулями в цене. Так же проверили сколько строк со значениями меньше 100 евро - 10597 строки. Данные значения являются аномалиями, удалим их."
   ]
  },
  {
   "cell_type": "code",
   "execution_count": 55,
   "metadata": {},
   "outputs": [],
   "source": [
    "autos = autos.query('Price > 100').reset_index(drop=True)"
   ]
  },
  {
   "cell_type": "code",
   "execution_count": 56,
   "metadata": {},
   "outputs": [
    {
     "data": {
      "text/plain": [
       "count    323935.000000\n",
       "mean       4696.121200\n",
       "std        4549.211482\n",
       "min         101.000000\n",
       "25%        1250.000000\n",
       "50%        2999.000000\n",
       "75%        6800.000000\n",
       "max       20000.000000\n",
       "Name: Price, dtype: float64"
      ]
     },
     "execution_count": 56,
     "metadata": {},
     "output_type": "execute_result"
    }
   ],
   "source": [
    "autos['Price'].describe()"
   ]
  },
  {
   "cell_type": "code",
   "execution_count": 57,
   "metadata": {},
   "outputs": [
    {
     "data": {
      "image/png": "[encoded data removed]",
      "text/plain": [
       "<Figure size 1080x504 with 1 Axes>"
      ]
     },
     "metadata": {},
     "output_type": "display_data"
    }
   ],
   "source": [
    "fig, ax = plt.subplots(figsize=(15,7))\n",
    "ax.hist((autos['Price']), bins=50);\n",
    "ax.set_title('Цена')\n",
    "ax.set_xlabel('Евро')\n",
    "ax.set_ylabel('Колличество')\n",
    "plt.show()"
   ]
  },
  {
   "cell_type": "markdown",
   "metadata": {},
   "source": [
    "Удалили все строки в которых цена была меньше 100 евро. Посмотрели на распределение цен. Основная часть приходится на диапазон 1000-4000 евро.\n",
    "\n",
    "Посмотрим на `RegistrationYear`."
   ]
  },
  {
   "cell_type": "code",
   "execution_count": 58,
   "metadata": {},
   "outputs": [
    {
     "data": {
      "text/plain": [
       "count    323935.000000\n",
       "mean       2003.419408\n",
       "std          27.138360\n",
       "min        1000.000000\n",
       "25%        1999.000000\n",
       "50%        2003.000000\n",
       "75%        2008.000000\n",
       "max        8200.000000\n",
       "Name: RegistrationYear, dtype: float64"
      ]
     },
     "execution_count": 58,
     "metadata": {},
     "output_type": "execute_result"
    }
   ],
   "source": [
    "autos['RegistrationYear'].describe()"
   ]
  },
  {
   "cell_type": "markdown",
   "metadata": {},
   "source": [
    "В этом стобце точно есть аномалии. Минимальное значении 1000 и максимальное 8200. Год регистрации не может превышать год заполнения анкеты, узнаем дату последней заоплненной анкеты в базе."
   ]
  },
  {
   "cell_type": "code",
   "execution_count": 59,
   "metadata": {},
   "outputs": [
    {
     "data": {
      "text/plain": [
       "Timestamp('2016-04-07 00:00:00')"
      ]
     },
     "execution_count": 59,
     "metadata": {},
     "output_type": "execute_result"
    }
   ],
   "source": [
    "pd.to_datetime(autos['DateCreated']).max()"
   ]
  },
  {
   "cell_type": "markdown",
   "metadata": {},
   "source": [
    "Год в `RegistrationYear` не должен превышать 2016."
   ]
  },
  {
   "cell_type": "code",
   "execution_count": 60,
   "metadata": {},
   "outputs": [
    {
     "data": {
      "text/html": [
       "<div>\n",
       "<style scoped>\n",
       "    .dataframe tbody tr th:only-of-type {\n",
       "        vertical-align: middle;\n",
       "    }\n",
       "\n",
       "    .dataframe tbody tr th {\n",
       "        vertical-align: top;\n",
       "    }\n",
       "\n",
       "    .dataframe thead th {\n",
       "        text-align: right;\n",
       "    }\n",
       "</style>\n",
       "<table border=\"1\" class=\"dataframe\">\n",
       "  <thead>\n",
       "    <tr style=\"text-align: right;\">\n",
       "      <th></th>\n",
       "      <th>DateCrawled</th>\n",
       "      <th>Price</th>\n",
       "      <th>VehicleType</th>\n",
       "      <th>RegistrationYear</th>\n",
       "      <th>Gearbox</th>\n",
       "      <th>Power</th>\n",
       "      <th>Model</th>\n",
       "      <th>Kilometer</th>\n",
       "      <th>RegistrationMonth</th>\n",
       "      <th>FuelType</th>\n",
       "      <th>Brand</th>\n",
       "      <th>Repaired</th>\n",
       "      <th>DateCreated</th>\n",
       "      <th>NumberOfPictures</th>\n",
       "      <th>PostalCode</th>\n",
       "      <th>LastSeen</th>\n",
       "    </tr>\n",
       "  </thead>\n",
       "  <tbody>\n",
       "    <tr>\n",
       "      <th>292938</th>\n",
       "      <td>2016-03-16 07:54:37</td>\n",
       "      <td>500</td>\n",
       "      <td>unknown</td>\n",
       "      <td>8200</td>\n",
       "      <td>auto</td>\n",
       "      <td>81</td>\n",
       "      <td>octavia</td>\n",
       "      <td>10000</td>\n",
       "      <td>11</td>\n",
       "      <td>other</td>\n",
       "      <td>skoda</td>\n",
       "      <td>unknown</td>\n",
       "      <td>2016-03-16 00:00:00</td>\n",
       "      <td>0</td>\n",
       "      <td>30559</td>\n",
       "      <td>2016-03-16 08:52:33</td>\n",
       "    </tr>\n",
       "    <tr>\n",
       "      <th>281897</th>\n",
       "      <td>2016-03-25 15:51:10</td>\n",
       "      <td>4000</td>\n",
       "      <td>unknown</td>\n",
       "      <td>7100</td>\n",
       "      <td>manual</td>\n",
       "      <td>0</td>\n",
       "      <td>panda</td>\n",
       "      <td>10000</td>\n",
       "      <td>3</td>\n",
       "      <td>other</td>\n",
       "      <td>fiat</td>\n",
       "      <td>unknown</td>\n",
       "      <td>2016-03-25 00:00:00</td>\n",
       "      <td>0</td>\n",
       "      <td>22115</td>\n",
       "      <td>2016-04-04 18:15:58</td>\n",
       "    </tr>\n",
       "    <tr>\n",
       "      <th>42945</th>\n",
       "      <td>2016-03-27 06:01:00</td>\n",
       "      <td>4900</td>\n",
       "      <td>unknown</td>\n",
       "      <td>6000</td>\n",
       "      <td>manual</td>\n",
       "      <td>52</td>\n",
       "      <td>other</td>\n",
       "      <td>10000</td>\n",
       "      <td>0</td>\n",
       "      <td>petrol</td>\n",
       "      <td>sonstige_autos</td>\n",
       "      <td>no</td>\n",
       "      <td>2016-03-27 00:00:00</td>\n",
       "      <td>0</td>\n",
       "      <td>38259</td>\n",
       "      <td>2016-04-07 04:16:10</td>\n",
       "    </tr>\n",
       "    <tr>\n",
       "      <th>210481</th>\n",
       "      <td>2016-03-30 20:43:25</td>\n",
       "      <td>2250</td>\n",
       "      <td>unknown</td>\n",
       "      <td>6000</td>\n",
       "      <td>manual</td>\n",
       "      <td>0</td>\n",
       "      <td>other</td>\n",
       "      <td>10000</td>\n",
       "      <td>0</td>\n",
       "      <td>petrol</td>\n",
       "      <td>opel</td>\n",
       "      <td>unknown</td>\n",
       "      <td>2016-03-30 00:00:00</td>\n",
       "      <td>0</td>\n",
       "      <td>6507</td>\n",
       "      <td>2016-04-07 12:45:22</td>\n",
       "    </tr>\n",
       "    <tr>\n",
       "      <th>107962</th>\n",
       "      <td>2016-03-27 01:57:32</td>\n",
       "      <td>4900</td>\n",
       "      <td>unknown</td>\n",
       "      <td>6000</td>\n",
       "      <td>manual</td>\n",
       "      <td>52</td>\n",
       "      <td>other</td>\n",
       "      <td>10000</td>\n",
       "      <td>0</td>\n",
       "      <td>petrol</td>\n",
       "      <td>sonstige_autos</td>\n",
       "      <td>no</td>\n",
       "      <td>2016-03-27 00:00:00</td>\n",
       "      <td>0</td>\n",
       "      <td>38259</td>\n",
       "      <td>2016-04-06 22:44:47</td>\n",
       "    </tr>\n",
       "    <tr>\n",
       "      <th>...</th>\n",
       "      <td>...</td>\n",
       "      <td>...</td>\n",
       "      <td>...</td>\n",
       "      <td>...</td>\n",
       "      <td>...</td>\n",
       "      <td>...</td>\n",
       "      <td>...</td>\n",
       "      <td>...</td>\n",
       "      <td>...</td>\n",
       "      <td>...</td>\n",
       "      <td>...</td>\n",
       "      <td>...</td>\n",
       "      <td>...</td>\n",
       "      <td>...</td>\n",
       "      <td>...</td>\n",
       "      <td>...</td>\n",
       "    </tr>\n",
       "    <tr>\n",
       "      <th>16671</th>\n",
       "      <td>2016-03-09 17:49:44</td>\n",
       "      <td>7999</td>\n",
       "      <td>unknown</td>\n",
       "      <td>1500</td>\n",
       "      <td>manual</td>\n",
       "      <td>224</td>\n",
       "      <td>impreza</td>\n",
       "      <td>5000</td>\n",
       "      <td>3</td>\n",
       "      <td>other</td>\n",
       "      <td>subaru</td>\n",
       "      <td>unknown</td>\n",
       "      <td>2016-03-09 00:00:00</td>\n",
       "      <td>0</td>\n",
       "      <td>53577</td>\n",
       "      <td>2016-03-15 05:15:17</td>\n",
       "    </tr>\n",
       "    <tr>\n",
       "      <th>254677</th>\n",
       "      <td>2016-03-09 12:43:13</td>\n",
       "      <td>450</td>\n",
       "      <td>unknown</td>\n",
       "      <td>1500</td>\n",
       "      <td>manual</td>\n",
       "      <td>0</td>\n",
       "      <td>other</td>\n",
       "      <td>5000</td>\n",
       "      <td>0</td>\n",
       "      <td>other</td>\n",
       "      <td>volkswagen</td>\n",
       "      <td>yes</td>\n",
       "      <td>2016-03-09 00:00:00</td>\n",
       "      <td>0</td>\n",
       "      <td>26529</td>\n",
       "      <td>2016-04-06 03:15:42</td>\n",
       "    </tr>\n",
       "    <tr>\n",
       "      <th>51439</th>\n",
       "      <td>2016-03-30 18:54:27</td>\n",
       "      <td>950</td>\n",
       "      <td>unknown</td>\n",
       "      <td>1400</td>\n",
       "      <td>manual</td>\n",
       "      <td>1400</td>\n",
       "      <td>golf</td>\n",
       "      <td>125000</td>\n",
       "      <td>4</td>\n",
       "      <td>petrol</td>\n",
       "      <td>volkswagen</td>\n",
       "      <td>unknown</td>\n",
       "      <td>2016-03-30 00:00:00</td>\n",
       "      <td>0</td>\n",
       "      <td>50389</td>\n",
       "      <td>2016-04-03 09:45:19</td>\n",
       "    </tr>\n",
       "    <tr>\n",
       "      <th>60528</th>\n",
       "      <td>2016-03-08 14:50:20</td>\n",
       "      <td>1300</td>\n",
       "      <td>unknown</td>\n",
       "      <td>1000</td>\n",
       "      <td>auto</td>\n",
       "      <td>0</td>\n",
       "      <td>other</td>\n",
       "      <td>5000</td>\n",
       "      <td>6</td>\n",
       "      <td>petrol</td>\n",
       "      <td>sonstige_autos</td>\n",
       "      <td>unknown</td>\n",
       "      <td>2016-03-08 00:00:00</td>\n",
       "      <td>0</td>\n",
       "      <td>13156</td>\n",
       "      <td>2016-03-17 08:17:42</td>\n",
       "    </tr>\n",
       "    <tr>\n",
       "      <th>173444</th>\n",
       "      <td>2016-03-29 16:56:41</td>\n",
       "      <td>1500</td>\n",
       "      <td>unknown</td>\n",
       "      <td>1000</td>\n",
       "      <td>manual</td>\n",
       "      <td>0</td>\n",
       "      <td>kaefer</td>\n",
       "      <td>5000</td>\n",
       "      <td>0</td>\n",
       "      <td>petrol</td>\n",
       "      <td>volkswagen</td>\n",
       "      <td>unknown</td>\n",
       "      <td>2016-03-29 00:00:00</td>\n",
       "      <td>0</td>\n",
       "      <td>48324</td>\n",
       "      <td>2016-03-31 10:15:28</td>\n",
       "    </tr>\n",
       "  </tbody>\n",
       "</table>\n",
       "<p>14543 rows × 16 columns</p>\n",
       "</div>"
      ],
      "text/plain": [
       "                DateCrawled  Price VehicleType  RegistrationYear Gearbox  \\\n",
       "292938  2016-03-16 07:54:37    500     unknown              8200    auto   \n",
       "281897  2016-03-25 15:51:10   4000     unknown              7100  manual   \n",
       "42945   2016-03-27 06:01:00   4900     unknown              6000  manual   \n",
       "210481  2016-03-30 20:43:25   2250     unknown              6000  manual   \n",
       "107962  2016-03-27 01:57:32   4900     unknown              6000  manual   \n",
       "...                     ...    ...         ...               ...     ...   \n",
       "16671   2016-03-09 17:49:44   7999     unknown              1500  manual   \n",
       "254677  2016-03-09 12:43:13    450     unknown              1500  manual   \n",
       "51439   2016-03-30 18:54:27    950     unknown              1400  manual   \n",
       "60528   2016-03-08 14:50:20   1300     unknown              1000    auto   \n",
       "173444  2016-03-29 16:56:41   1500     unknown              1000  manual   \n",
       "\n",
       "        Power    Model  Kilometer  RegistrationMonth FuelType           Brand  \\\n",
       "292938     81  octavia      10000                 11    other           skoda   \n",
       "281897      0    panda      10000                  3    other            fiat   \n",
       "42945      52    other      10000                  0   petrol  sonstige_autos   \n",
       "210481      0    other      10000                  0   petrol            opel   \n",
       "107962     52    other      10000                  0   petrol  sonstige_autos   \n",
       "...       ...      ...        ...                ...      ...             ...   \n",
       "16671     224  impreza       5000                  3    other          subaru   \n",
       "254677      0    other       5000                  0    other      volkswagen   \n",
       "51439    1400     golf     125000                  4   petrol      volkswagen   \n",
       "60528       0    other       5000                  6   petrol  sonstige_autos   \n",
       "173444      0   kaefer       5000                  0   petrol      volkswagen   \n",
       "\n",
       "       Repaired          DateCreated  NumberOfPictures  PostalCode  \\\n",
       "292938  unknown  2016-03-16 00:00:00                 0       30559   \n",
       "281897  unknown  2016-03-25 00:00:00                 0       22115   \n",
       "42945        no  2016-03-27 00:00:00                 0       38259   \n",
       "210481  unknown  2016-03-30 00:00:00                 0        6507   \n",
       "107962       no  2016-03-27 00:00:00                 0       38259   \n",
       "...         ...                  ...               ...         ...   \n",
       "16671   unknown  2016-03-09 00:00:00                 0       53577   \n",
       "254677      yes  2016-03-09 00:00:00                 0       26529   \n",
       "51439   unknown  2016-03-30 00:00:00                 0       50389   \n",
       "60528   unknown  2016-03-08 00:00:00                 0       13156   \n",
       "173444  unknown  2016-03-29 00:00:00                 0       48324   \n",
       "\n",
       "                   LastSeen  \n",
       "292938  2016-03-16 08:52:33  \n",
       "281897  2016-04-04 18:15:58  \n",
       "42945   2016-04-07 04:16:10  \n",
       "210481  2016-04-07 12:45:22  \n",
       "107962  2016-04-06 22:44:47  \n",
       "...                     ...  \n",
       "16671   2016-03-15 05:15:17  \n",
       "254677  2016-04-06 03:15:42  \n",
       "51439   2016-04-03 09:45:19  \n",
       "60528   2016-03-17 08:17:42  \n",
       "173444  2016-03-31 10:15:28  \n",
       "\n",
       "[14543 rows x 16 columns]"
      ]
     },
     "execution_count": 60,
     "metadata": {},
     "output_type": "execute_result"
    }
   ],
   "source": [
    "autos.query('(RegistrationYear < 1980) or (RegistrationYear > 2016)') \\\n",
    "     .sort_values(by='RegistrationYear', ascending=False)"
   ]
  },
  {
   "cell_type": "markdown",
   "metadata": {},
   "source": [
    "Проверили сколько строк в данных с годом регистрации до 1980 и после 2016. Нашли 14543 строки, это явные аномалии удалим их."
   ]
  },
  {
   "cell_type": "code",
   "execution_count": 61,
   "metadata": {},
   "outputs": [],
   "source": [
    "autos = autos.query('1980 < RegistrationYear < 2016').reset_index(drop=True)"
   ]
  },
  {
   "cell_type": "code",
   "execution_count": 62,
   "metadata": {},
   "outputs": [
    {
     "data": {
      "text/plain": [
       "count    301514.000000\n",
       "mean       2002.670320\n",
       "std           5.608798\n",
       "min        1981.000000\n",
       "25%        1999.000000\n",
       "50%        2003.000000\n",
       "75%        2007.000000\n",
       "max        2015.000000\n",
       "Name: RegistrationYear, dtype: float64"
      ]
     },
     "execution_count": 62,
     "metadata": {},
     "output_type": "execute_result"
    }
   ],
   "source": [
    "autos['RegistrationYear'].describe()"
   ]
  },
  {
   "cell_type": "code",
   "execution_count": 63,
   "metadata": {},
   "outputs": [
    {
     "data": {
      "image/png": "[encoded data removed]",
      "text/plain": [
       "<Figure size 1080x504 with 1 Axes>"
      ]
     },
     "metadata": {},
     "output_type": "display_data"
    }
   ],
   "source": [
    "fig, ax = plt.subplots(figsize=(15,7))\n",
    "ax.hist((autos['RegistrationYear']), bins=[1980, 1990, 2000, 2010, 2020]);\n",
    "ax.set_title('Год регистрации')\n",
    "ax.set_xlabel('Год')\n",
    "ax.set_ylabel('Колличество')\n",
    "plt.show()"
   ]
  },
  {
   "cell_type": "markdown",
   "metadata": {},
   "source": [
    "С аномалиями в `RegistrationYear` закончили.\n",
    "\n",
    "Посмотрим на столбец `Power`."
   ]
  },
  {
   "cell_type": "code",
   "execution_count": 64,
   "metadata": {},
   "outputs": [
    {
     "data": {
      "text/plain": [
       "count    301514.000000\n",
       "mean        116.923785\n",
       "std         182.245514\n",
       "min           0.000000\n",
       "25%          75.000000\n",
       "50%         109.000000\n",
       "75%         146.000000\n",
       "max       20000.000000\n",
       "Name: Power, dtype: float64"
      ]
     },
     "execution_count": 64,
     "metadata": {},
     "output_type": "execute_result"
    }
   ],
   "source": [
    "autos['Power'].describe()"
   ]
  },
  {
   "cell_type": "markdown",
   "metadata": {},
   "source": [
    "Как и в `RegistrationYear` видим аномально низкие и аномально высокие значения."
   ]
  },
  {
   "cell_type": "code",
   "execution_count": 65,
   "metadata": {},
   "outputs": [
    {
     "data": {
      "text/html": [
       "<div>\n",
       "<style scoped>\n",
       "    .dataframe tbody tr th:only-of-type {\n",
       "        vertical-align: middle;\n",
       "    }\n",
       "\n",
       "    .dataframe tbody tr th {\n",
       "        vertical-align: top;\n",
       "    }\n",
       "\n",
       "    .dataframe thead th {\n",
       "        text-align: right;\n",
       "    }\n",
       "</style>\n",
       "<table border=\"1\" class=\"dataframe\">\n",
       "  <thead>\n",
       "    <tr style=\"text-align: right;\">\n",
       "      <th></th>\n",
       "      <th>DateCrawled</th>\n",
       "      <th>Price</th>\n",
       "      <th>VehicleType</th>\n",
       "      <th>RegistrationYear</th>\n",
       "      <th>Gearbox</th>\n",
       "      <th>Power</th>\n",
       "      <th>Model</th>\n",
       "      <th>Kilometer</th>\n",
       "      <th>RegistrationMonth</th>\n",
       "      <th>FuelType</th>\n",
       "      <th>Brand</th>\n",
       "      <th>Repaired</th>\n",
       "      <th>DateCreated</th>\n",
       "      <th>NumberOfPictures</th>\n",
       "      <th>PostalCode</th>\n",
       "      <th>LastSeen</th>\n",
       "    </tr>\n",
       "  </thead>\n",
       "  <tbody>\n",
       "    <tr>\n",
       "      <th>186896</th>\n",
       "      <td>2016-03-09 15:43:53</td>\n",
       "      <td>4300</td>\n",
       "      <td>coupe</td>\n",
       "      <td>1999</td>\n",
       "      <td>auto</td>\n",
       "      <td>20000</td>\n",
       "      <td>clk</td>\n",
       "      <td>150000</td>\n",
       "      <td>1</td>\n",
       "      <td>petrol</td>\n",
       "      <td>mercedes_benz</td>\n",
       "      <td>no</td>\n",
       "      <td>2016-03-09 00:00:00</td>\n",
       "      <td>0</td>\n",
       "      <td>19406</td>\n",
       "      <td>2016-03-30 08:47:08</td>\n",
       "    </tr>\n",
       "    <tr>\n",
       "      <th>254631</th>\n",
       "      <td>2016-03-09 08:53:11</td>\n",
       "      <td>1500</td>\n",
       "      <td>wagon</td>\n",
       "      <td>1997</td>\n",
       "      <td>manual</td>\n",
       "      <td>19312</td>\n",
       "      <td>5er</td>\n",
       "      <td>150000</td>\n",
       "      <td>1</td>\n",
       "      <td>other</td>\n",
       "      <td>bmw</td>\n",
       "      <td>no</td>\n",
       "      <td>2016-03-09 00:00:00</td>\n",
       "      <td>0</td>\n",
       "      <td>21129</td>\n",
       "      <td>2016-04-07 11:44:34</td>\n",
       "    </tr>\n",
       "    <tr>\n",
       "      <th>97247</th>\n",
       "      <td>2016-04-03 07:36:21</td>\n",
       "      <td>9999</td>\n",
       "      <td>sedan</td>\n",
       "      <td>2006</td>\n",
       "      <td>manual</td>\n",
       "      <td>19211</td>\n",
       "      <td>1er</td>\n",
       "      <td>125000</td>\n",
       "      <td>0</td>\n",
       "      <td>gasoline</td>\n",
       "      <td>bmw</td>\n",
       "      <td>unknown</td>\n",
       "      <td>2016-04-03 00:00:00</td>\n",
       "      <td>0</td>\n",
       "      <td>45964</td>\n",
       "      <td>2016-04-07 10:16:10</td>\n",
       "    </tr>\n",
       "    <tr>\n",
       "      <th>112938</th>\n",
       "      <td>2016-03-25 14:55:49</td>\n",
       "      <td>2100</td>\n",
       "      <td>wagon</td>\n",
       "      <td>2001</td>\n",
       "      <td>manual</td>\n",
       "      <td>19208</td>\n",
       "      <td>5er</td>\n",
       "      <td>150000</td>\n",
       "      <td>5</td>\n",
       "      <td>other</td>\n",
       "      <td>bmw</td>\n",
       "      <td>yes</td>\n",
       "      <td>2016-03-25 00:00:00</td>\n",
       "      <td>0</td>\n",
       "      <td>59556</td>\n",
       "      <td>2016-03-30 05:16:18</td>\n",
       "    </tr>\n",
       "    <tr>\n",
       "      <th>54453</th>\n",
       "      <td>2016-03-28 11:49:56</td>\n",
       "      <td>3250</td>\n",
       "      <td>sedan</td>\n",
       "      <td>2001</td>\n",
       "      <td>auto</td>\n",
       "      <td>17932</td>\n",
       "      <td>omega</td>\n",
       "      <td>150000</td>\n",
       "      <td>6</td>\n",
       "      <td>petrol</td>\n",
       "      <td>opel</td>\n",
       "      <td>unknown</td>\n",
       "      <td>2016-03-28 00:00:00</td>\n",
       "      <td>0</td>\n",
       "      <td>86641</td>\n",
       "      <td>2016-04-06 14:17:21</td>\n",
       "    </tr>\n",
       "    <tr>\n",
       "      <th>...</th>\n",
       "      <td>...</td>\n",
       "      <td>...</td>\n",
       "      <td>...</td>\n",
       "      <td>...</td>\n",
       "      <td>...</td>\n",
       "      <td>...</td>\n",
       "      <td>...</td>\n",
       "      <td>...</td>\n",
       "      <td>...</td>\n",
       "      <td>...</td>\n",
       "      <td>...</td>\n",
       "      <td>...</td>\n",
       "      <td>...</td>\n",
       "      <td>...</td>\n",
       "      <td>...</td>\n",
       "      <td>...</td>\n",
       "    </tr>\n",
       "    <tr>\n",
       "      <th>170240</th>\n",
       "      <td>2016-04-01 19:55:01</td>\n",
       "      <td>19500</td>\n",
       "      <td>suv</td>\n",
       "      <td>2008</td>\n",
       "      <td>manual</td>\n",
       "      <td>405</td>\n",
       "      <td>cayenne</td>\n",
       "      <td>150000</td>\n",
       "      <td>2</td>\n",
       "      <td>petrol</td>\n",
       "      <td>porsche</td>\n",
       "      <td>no</td>\n",
       "      <td>2016-04-01 00:00:00</td>\n",
       "      <td>0</td>\n",
       "      <td>85084</td>\n",
       "      <td>2016-04-05 16:45:45</td>\n",
       "    </tr>\n",
       "    <tr>\n",
       "      <th>43952</th>\n",
       "      <td>2016-03-19 07:54:59</td>\n",
       "      <td>9199</td>\n",
       "      <td>sedan</td>\n",
       "      <td>1998</td>\n",
       "      <td>manual</td>\n",
       "      <td>401</td>\n",
       "      <td>passat</td>\n",
       "      <td>20000</td>\n",
       "      <td>10</td>\n",
       "      <td>petrol</td>\n",
       "      <td>volkswagen</td>\n",
       "      <td>no</td>\n",
       "      <td>2016-03-19 00:00:00</td>\n",
       "      <td>0</td>\n",
       "      <td>8499</td>\n",
       "      <td>2016-03-31 13:45:52</td>\n",
       "    </tr>\n",
       "    <tr>\n",
       "      <th>175908</th>\n",
       "      <td>2016-03-09 03:02:47</td>\n",
       "      <td>14000</td>\n",
       "      <td>suv</td>\n",
       "      <td>2007</td>\n",
       "      <td>auto</td>\n",
       "      <td>401</td>\n",
       "      <td>other</td>\n",
       "      <td>150000</td>\n",
       "      <td>0</td>\n",
       "      <td>petrol</td>\n",
       "      <td>chevrolet</td>\n",
       "      <td>unknown</td>\n",
       "      <td>2016-03-09 00:00:00</td>\n",
       "      <td>0</td>\n",
       "      <td>54290</td>\n",
       "      <td>2016-04-05 12:45:01</td>\n",
       "    </tr>\n",
       "    <tr>\n",
       "      <th>15442</th>\n",
       "      <td>2016-03-09 04:03:05</td>\n",
       "      <td>14000</td>\n",
       "      <td>suv</td>\n",
       "      <td>2007</td>\n",
       "      <td>auto</td>\n",
       "      <td>401</td>\n",
       "      <td>other</td>\n",
       "      <td>150000</td>\n",
       "      <td>0</td>\n",
       "      <td>petrol</td>\n",
       "      <td>chevrolet</td>\n",
       "      <td>unknown</td>\n",
       "      <td>2016-03-09 00:00:00</td>\n",
       "      <td>0</td>\n",
       "      <td>54290</td>\n",
       "      <td>2016-04-07 09:16:46</td>\n",
       "    </tr>\n",
       "    <tr>\n",
       "      <th>47053</th>\n",
       "      <td>2016-04-01 08:57:36</td>\n",
       "      <td>249</td>\n",
       "      <td>sedan</td>\n",
       "      <td>2009</td>\n",
       "      <td>auto</td>\n",
       "      <td>401</td>\n",
       "      <td>other</td>\n",
       "      <td>5000</td>\n",
       "      <td>5</td>\n",
       "      <td>petrol</td>\n",
       "      <td>sonstige_autos</td>\n",
       "      <td>unknown</td>\n",
       "      <td>2016-04-01 00:00:00</td>\n",
       "      <td>0</td>\n",
       "      <td>10965</td>\n",
       "      <td>2016-04-07 06:17:32</td>\n",
       "    </tr>\n",
       "  </tbody>\n",
       "</table>\n",
       "<p>599 rows × 16 columns</p>\n",
       "</div>"
      ],
      "text/plain": [
       "                DateCrawled  Price VehicleType  RegistrationYear Gearbox  \\\n",
       "186896  2016-03-09 15:43:53   4300       coupe              1999    auto   \n",
       "254631  2016-03-09 08:53:11   1500       wagon              1997  manual   \n",
       "97247   2016-04-03 07:36:21   9999       sedan              2006  manual   \n",
       "112938  2016-03-25 14:55:49   2100       wagon              2001  manual   \n",
       "54453   2016-03-28 11:49:56   3250       sedan              2001    auto   \n",
       "...                     ...    ...         ...               ...     ...   \n",
       "170240  2016-04-01 19:55:01  19500         suv              2008  manual   \n",
       "43952   2016-03-19 07:54:59   9199       sedan              1998  manual   \n",
       "175908  2016-03-09 03:02:47  14000         suv              2007    auto   \n",
       "15442   2016-03-09 04:03:05  14000         suv              2007    auto   \n",
       "47053   2016-04-01 08:57:36    249       sedan              2009    auto   \n",
       "\n",
       "        Power    Model  Kilometer  RegistrationMonth  FuelType  \\\n",
       "186896  20000      clk     150000                  1    petrol   \n",
       "254631  19312      5er     150000                  1     other   \n",
       "97247   19211      1er     125000                  0  gasoline   \n",
       "112938  19208      5er     150000                  5     other   \n",
       "54453   17932    omega     150000                  6    petrol   \n",
       "...       ...      ...        ...                ...       ...   \n",
       "170240    405  cayenne     150000                  2    petrol   \n",
       "43952     401   passat      20000                 10    petrol   \n",
       "175908    401    other     150000                  0    petrol   \n",
       "15442     401    other     150000                  0    petrol   \n",
       "47053     401    other       5000                  5    petrol   \n",
       "\n",
       "                 Brand Repaired          DateCreated  NumberOfPictures  \\\n",
       "186896   mercedes_benz       no  2016-03-09 00:00:00                 0   \n",
       "254631             bmw       no  2016-03-09 00:00:00                 0   \n",
       "97247              bmw  unknown  2016-04-03 00:00:00                 0   \n",
       "112938             bmw      yes  2016-03-25 00:00:00                 0   \n",
       "54453             opel  unknown  2016-03-28 00:00:00                 0   \n",
       "...                ...      ...                  ...               ...   \n",
       "170240         porsche       no  2016-04-01 00:00:00                 0   \n",
       "43952       volkswagen       no  2016-03-19 00:00:00                 0   \n",
       "175908       chevrolet  unknown  2016-03-09 00:00:00                 0   \n",
       "15442        chevrolet  unknown  2016-03-09 00:00:00                 0   \n",
       "47053   sonstige_autos  unknown  2016-04-01 00:00:00                 0   \n",
       "\n",
       "        PostalCode             LastSeen  \n",
       "186896       19406  2016-03-30 08:47:08  \n",
       "254631       21129  2016-04-07 11:44:34  \n",
       "97247        45964  2016-04-07 10:16:10  \n",
       "112938       59556  2016-03-30 05:16:18  \n",
       "54453        86641  2016-04-06 14:17:21  \n",
       "...            ...                  ...  \n",
       "170240       85084  2016-04-05 16:45:45  \n",
       "43952         8499  2016-03-31 13:45:52  \n",
       "175908       54290  2016-04-05 12:45:01  \n",
       "15442        54290  2016-04-07 09:16:46  \n",
       "47053        10965  2016-04-07 06:17:32  \n",
       "\n",
       "[599 rows x 16 columns]"
      ]
     },
     "execution_count": 65,
     "metadata": {},
     "output_type": "execute_result"
    }
   ],
   "source": [
    "autos.query('Power > 400').sort_values(by='Power', ascending=False)"
   ]
  },
  {
   "cell_type": "markdown",
   "metadata": {},
   "source": [
    "Проверили сколько строк со значением больше 400л.с. Нашли 646 строки, удалим их."
   ]
  },
  {
   "cell_type": "code",
   "execution_count": 66,
   "metadata": {},
   "outputs": [],
   "source": [
    "autos =  autos.query('Power < 400').reset_index(drop=True)"
   ]
  },
  {
   "cell_type": "code",
   "execution_count": 67,
   "metadata": {},
   "outputs": [
    {
     "data": {
      "text/plain": [
       "count    300869.000000\n",
       "mean        113.267236\n",
       "std          58.866767\n",
       "min           0.000000\n",
       "25%          75.000000\n",
       "50%         109.000000\n",
       "75%         145.000000\n",
       "max         399.000000\n",
       "Name: Power, dtype: float64"
      ]
     },
     "execution_count": 67,
     "metadata": {},
     "output_type": "execute_result"
    }
   ],
   "source": [
    "autos['Power'].describe()"
   ]
  },
  {
   "cell_type": "markdown",
   "metadata": {},
   "source": [
    "Аномально высокие значения удалили, теперь посмотрим на аномально низкие."
   ]
  },
  {
   "cell_type": "code",
   "execution_count": 68,
   "metadata": {},
   "outputs": [
    {
     "data": {
      "text/html": [
       "<div>\n",
       "<style scoped>\n",
       "    .dataframe tbody tr th:only-of-type {\n",
       "        vertical-align: middle;\n",
       "    }\n",
       "\n",
       "    .dataframe tbody tr th {\n",
       "        vertical-align: top;\n",
       "    }\n",
       "\n",
       "    .dataframe thead th {\n",
       "        text-align: right;\n",
       "    }\n",
       "</style>\n",
       "<table border=\"1\" class=\"dataframe\">\n",
       "  <thead>\n",
       "    <tr style=\"text-align: right;\">\n",
       "      <th></th>\n",
       "      <th>DateCrawled</th>\n",
       "      <th>Price</th>\n",
       "      <th>VehicleType</th>\n",
       "      <th>RegistrationYear</th>\n",
       "      <th>Gearbox</th>\n",
       "      <th>Power</th>\n",
       "      <th>Model</th>\n",
       "      <th>Kilometer</th>\n",
       "      <th>RegistrationMonth</th>\n",
       "      <th>FuelType</th>\n",
       "      <th>Brand</th>\n",
       "      <th>Repaired</th>\n",
       "      <th>DateCreated</th>\n",
       "      <th>NumberOfPictures</th>\n",
       "      <th>PostalCode</th>\n",
       "      <th>LastSeen</th>\n",
       "    </tr>\n",
       "  </thead>\n",
       "  <tbody>\n",
       "    <tr>\n",
       "      <th>154411</th>\n",
       "      <td>2016-03-24 20:46:48</td>\n",
       "      <td>1000</td>\n",
       "      <td>small</td>\n",
       "      <td>2001</td>\n",
       "      <td>manual</td>\n",
       "      <td>49</td>\n",
       "      <td>corsa</td>\n",
       "      <td>150000</td>\n",
       "      <td>2</td>\n",
       "      <td>petrol</td>\n",
       "      <td>opel</td>\n",
       "      <td>unknown</td>\n",
       "      <td>2016-03-24 00:00:00</td>\n",
       "      <td>0</td>\n",
       "      <td>32457</td>\n",
       "      <td>2016-04-01 18:17:21</td>\n",
       "    </tr>\n",
       "    <tr>\n",
       "      <th>290554</th>\n",
       "      <td>2016-03-07 11:55:28</td>\n",
       "      <td>555</td>\n",
       "      <td>small</td>\n",
       "      <td>1988</td>\n",
       "      <td>manual</td>\n",
       "      <td>49</td>\n",
       "      <td>fiesta</td>\n",
       "      <td>60000</td>\n",
       "      <td>2</td>\n",
       "      <td>petrol</td>\n",
       "      <td>ford</td>\n",
       "      <td>no</td>\n",
       "      <td>2016-03-07 00:00:00</td>\n",
       "      <td>0</td>\n",
       "      <td>73054</td>\n",
       "      <td>2016-03-08 07:17:25</td>\n",
       "    </tr>\n",
       "    <tr>\n",
       "      <th>203712</th>\n",
       "      <td>2016-03-29 11:51:55</td>\n",
       "      <td>160</td>\n",
       "      <td>small</td>\n",
       "      <td>1999</td>\n",
       "      <td>manual</td>\n",
       "      <td>49</td>\n",
       "      <td>ka</td>\n",
       "      <td>150000</td>\n",
       "      <td>10</td>\n",
       "      <td>petrol</td>\n",
       "      <td>ford</td>\n",
       "      <td>no</td>\n",
       "      <td>2016-03-29 00:00:00</td>\n",
       "      <td>0</td>\n",
       "      <td>44319</td>\n",
       "      <td>2016-03-29 11:51:55</td>\n",
       "    </tr>\n",
       "    <tr>\n",
       "      <th>57717</th>\n",
       "      <td>2016-03-17 20:57:49</td>\n",
       "      <td>5800</td>\n",
       "      <td>coupe</td>\n",
       "      <td>1981</td>\n",
       "      <td>manual</td>\n",
       "      <td>49</td>\n",
       "      <td>other</td>\n",
       "      <td>10000</td>\n",
       "      <td>1</td>\n",
       "      <td>petrol</td>\n",
       "      <td>skoda</td>\n",
       "      <td>unknown</td>\n",
       "      <td>2016-03-17 00:00:00</td>\n",
       "      <td>0</td>\n",
       "      <td>98693</td>\n",
       "      <td>2016-04-01 14:17:15</td>\n",
       "    </tr>\n",
       "    <tr>\n",
       "      <th>278269</th>\n",
       "      <td>2016-04-02 16:45:40</td>\n",
       "      <td>2450</td>\n",
       "      <td>small</td>\n",
       "      <td>2008</td>\n",
       "      <td>manual</td>\n",
       "      <td>49</td>\n",
       "      <td>getz</td>\n",
       "      <td>100000</td>\n",
       "      <td>4</td>\n",
       "      <td>petrol</td>\n",
       "      <td>hyundai</td>\n",
       "      <td>no</td>\n",
       "      <td>2016-04-02 00:00:00</td>\n",
       "      <td>0</td>\n",
       "      <td>24116</td>\n",
       "      <td>2016-04-06 15:45:15</td>\n",
       "    </tr>\n",
       "    <tr>\n",
       "      <th>...</th>\n",
       "      <td>...</td>\n",
       "      <td>...</td>\n",
       "      <td>...</td>\n",
       "      <td>...</td>\n",
       "      <td>...</td>\n",
       "      <td>...</td>\n",
       "      <td>...</td>\n",
       "      <td>...</td>\n",
       "      <td>...</td>\n",
       "      <td>...</td>\n",
       "      <td>...</td>\n",
       "      <td>...</td>\n",
       "      <td>...</td>\n",
       "      <td>...</td>\n",
       "      <td>...</td>\n",
       "      <td>...</td>\n",
       "    </tr>\n",
       "    <tr>\n",
       "      <th>109519</th>\n",
       "      <td>2016-03-13 07:37:02</td>\n",
       "      <td>2900</td>\n",
       "      <td>small</td>\n",
       "      <td>2007</td>\n",
       "      <td>auto</td>\n",
       "      <td>0</td>\n",
       "      <td>fortwo</td>\n",
       "      <td>5000</td>\n",
       "      <td>11</td>\n",
       "      <td>other</td>\n",
       "      <td>smart</td>\n",
       "      <td>no</td>\n",
       "      <td>2016-03-13 00:00:00</td>\n",
       "      <td>0</td>\n",
       "      <td>50678</td>\n",
       "      <td>2016-03-20 13:45:59</td>\n",
       "    </tr>\n",
       "    <tr>\n",
       "      <th>109488</th>\n",
       "      <td>2016-03-18 22:49:33</td>\n",
       "      <td>750</td>\n",
       "      <td>sedan</td>\n",
       "      <td>2000</td>\n",
       "      <td>manual</td>\n",
       "      <td>0</td>\n",
       "      <td>corsa</td>\n",
       "      <td>150000</td>\n",
       "      <td>2</td>\n",
       "      <td>petrol</td>\n",
       "      <td>opel</td>\n",
       "      <td>no</td>\n",
       "      <td>2016-03-18 00:00:00</td>\n",
       "      <td>0</td>\n",
       "      <td>15848</td>\n",
       "      <td>2016-04-06 02:17:36</td>\n",
       "    </tr>\n",
       "    <tr>\n",
       "      <th>109476</th>\n",
       "      <td>2016-03-08 16:48:12</td>\n",
       "      <td>150</td>\n",
       "      <td>sedan</td>\n",
       "      <td>2000</td>\n",
       "      <td>manual</td>\n",
       "      <td>0</td>\n",
       "      <td>focus</td>\n",
       "      <td>150000</td>\n",
       "      <td>1</td>\n",
       "      <td>petrol</td>\n",
       "      <td>ford</td>\n",
       "      <td>unknown</td>\n",
       "      <td>2016-03-08 00:00:00</td>\n",
       "      <td>0</td>\n",
       "      <td>44339</td>\n",
       "      <td>2016-03-15 20:44:24</td>\n",
       "    </tr>\n",
       "    <tr>\n",
       "      <th>109459</th>\n",
       "      <td>2016-03-22 20:54:17</td>\n",
       "      <td>1790</td>\n",
       "      <td>convertible</td>\n",
       "      <td>1998</td>\n",
       "      <td>manual</td>\n",
       "      <td>0</td>\n",
       "      <td>golf</td>\n",
       "      <td>150000</td>\n",
       "      <td>6</td>\n",
       "      <td>petrol</td>\n",
       "      <td>volkswagen</td>\n",
       "      <td>no</td>\n",
       "      <td>2016-03-22 00:00:00</td>\n",
       "      <td>0</td>\n",
       "      <td>26831</td>\n",
       "      <td>2016-03-30 02:47:04</td>\n",
       "    </tr>\n",
       "    <tr>\n",
       "      <th>300865</th>\n",
       "      <td>2016-03-27 20:36:20</td>\n",
       "      <td>1150</td>\n",
       "      <td>bus</td>\n",
       "      <td>2000</td>\n",
       "      <td>manual</td>\n",
       "      <td>0</td>\n",
       "      <td>zafira</td>\n",
       "      <td>150000</td>\n",
       "      <td>3</td>\n",
       "      <td>petrol</td>\n",
       "      <td>opel</td>\n",
       "      <td>no</td>\n",
       "      <td>2016-03-27 00:00:00</td>\n",
       "      <td>0</td>\n",
       "      <td>26624</td>\n",
       "      <td>2016-03-29 10:17:23</td>\n",
       "    </tr>\n",
       "  </tbody>\n",
       "</table>\n",
       "<p>24069 rows × 16 columns</p>\n",
       "</div>"
      ],
      "text/plain": [
       "                DateCrawled  Price  VehicleType  RegistrationYear Gearbox  \\\n",
       "154411  2016-03-24 20:46:48   1000        small              2001  manual   \n",
       "290554  2016-03-07 11:55:28    555        small              1988  manual   \n",
       "203712  2016-03-29 11:51:55    160        small              1999  manual   \n",
       "57717   2016-03-17 20:57:49   5800        coupe              1981  manual   \n",
       "278269  2016-04-02 16:45:40   2450        small              2008  manual   \n",
       "...                     ...    ...          ...               ...     ...   \n",
       "109519  2016-03-13 07:37:02   2900        small              2007    auto   \n",
       "109488  2016-03-18 22:49:33    750        sedan              2000  manual   \n",
       "109476  2016-03-08 16:48:12    150        sedan              2000  manual   \n",
       "109459  2016-03-22 20:54:17   1790  convertible              1998  manual   \n",
       "300865  2016-03-27 20:36:20   1150          bus              2000  manual   \n",
       "\n",
       "        Power   Model  Kilometer  RegistrationMonth FuelType       Brand  \\\n",
       "154411     49   corsa     150000                  2   petrol        opel   \n",
       "290554     49  fiesta      60000                  2   petrol        ford   \n",
       "203712     49      ka     150000                 10   petrol        ford   \n",
       "57717      49   other      10000                  1   petrol       skoda   \n",
       "278269     49    getz     100000                  4   petrol     hyundai   \n",
       "...       ...     ...        ...                ...      ...         ...   \n",
       "109519      0  fortwo       5000                 11    other       smart   \n",
       "109488      0   corsa     150000                  2   petrol        opel   \n",
       "109476      0   focus     150000                  1   petrol        ford   \n",
       "109459      0    golf     150000                  6   petrol  volkswagen   \n",
       "300865      0  zafira     150000                  3   petrol        opel   \n",
       "\n",
       "       Repaired          DateCreated  NumberOfPictures  PostalCode  \\\n",
       "154411  unknown  2016-03-24 00:00:00                 0       32457   \n",
       "290554       no  2016-03-07 00:00:00                 0       73054   \n",
       "203712       no  2016-03-29 00:00:00                 0       44319   \n",
       "57717   unknown  2016-03-17 00:00:00                 0       98693   \n",
       "278269       no  2016-04-02 00:00:00                 0       24116   \n",
       "...         ...                  ...               ...         ...   \n",
       "109519       no  2016-03-13 00:00:00                 0       50678   \n",
       "109488       no  2016-03-18 00:00:00                 0       15848   \n",
       "109476  unknown  2016-03-08 00:00:00                 0       44339   \n",
       "109459       no  2016-03-22 00:00:00                 0       26831   \n",
       "300865       no  2016-03-27 00:00:00                 0       26624   \n",
       "\n",
       "                   LastSeen  \n",
       "154411  2016-04-01 18:17:21  \n",
       "290554  2016-03-08 07:17:25  \n",
       "203712  2016-03-29 11:51:55  \n",
       "57717   2016-04-01 14:17:15  \n",
       "278269  2016-04-06 15:45:15  \n",
       "...                     ...  \n",
       "109519  2016-03-20 13:45:59  \n",
       "109488  2016-04-06 02:17:36  \n",
       "109476  2016-03-15 20:44:24  \n",
       "109459  2016-03-30 02:47:04  \n",
       "300865  2016-03-29 10:17:23  \n",
       "\n",
       "[24069 rows x 16 columns]"
      ]
     },
     "execution_count": 68,
     "metadata": {},
     "output_type": "execute_result"
    }
   ],
   "source": [
    "autos.query('Power < 50').sort_values(by='Power', ascending=False)"
   ]
  },
  {
   "cell_type": "code",
   "execution_count": 69,
   "metadata": {},
   "outputs": [
    {
     "data": {
      "text/plain": [
       "19799"
      ]
     },
     "execution_count": 69,
     "metadata": {},
     "output_type": "execute_result"
    }
   ],
   "source": [
    "(autos.query('Power == 0')).shape[0]"
   ]
  },
  {
   "cell_type": "markdown",
   "metadata": {},
   "source": [
    "Значения меньше 50л.с мы приняли за аномалии. Нашли 29132 строки, а так же проверили сколько из них с 0л.с - 24286 строки. Изменим все эти значения на медиану (105л.с.)."
   ]
  },
  {
   "cell_type": "code",
   "execution_count": 70,
   "metadata": {},
   "outputs": [],
   "source": [
    "autos.loc[(autos['Power'] < 50), 'Power'] = autos['Power'].median()"
   ]
  },
  {
   "cell_type": "code",
   "execution_count": 71,
   "metadata": {},
   "outputs": [
    {
     "data": {
      "text/plain": [
       "count    300869.000000\n",
       "mean        121.416254\n",
       "std          49.789337\n",
       "min          50.000000\n",
       "25%          87.000000\n",
       "50%         109.000000\n",
       "75%         145.000000\n",
       "max         399.000000\n",
       "Name: Power, dtype: float64"
      ]
     },
     "execution_count": 71,
     "metadata": {},
     "output_type": "execute_result"
    }
   ],
   "source": [
    "autos['Power'].describe()"
   ]
  },
  {
   "cell_type": "code",
   "execution_count": 72,
   "metadata": {},
   "outputs": [
    {
     "data": {
      "image/png": "[encoded data removed]",
      "text/plain": [
       "<Figure size 1080x504 with 1 Axes>"
      ]
     },
     "metadata": {},
     "output_type": "display_data"
    }
   ],
   "source": [
    "fig, ax = plt.subplots(figsize=(15,7))\n",
    "ax.hist((autos['Power']), bins=20);\n",
    "ax.set_title('Мощность')\n",
    "ax.set_xlabel('л. с.')\n",
    "ax.set_ylabel('Колличество')\n",
    "plt.show()"
   ]
  },
  {
   "cell_type": "markdown",
   "metadata": {},
   "source": [
    "C аномалиями в `Power` разобрались. \n",
    "\n",
    "Посмотрим на `Kilometer`"
   ]
  },
  {
   "cell_type": "code",
   "execution_count": 73,
   "metadata": {},
   "outputs": [
    {
     "data": {
      "text/plain": [
       "count    300869.000000\n",
       "mean     128749.040280\n",
       "std       36484.491432\n",
       "min        5000.000000\n",
       "25%      125000.000000\n",
       "50%      150000.000000\n",
       "75%      150000.000000\n",
       "max      150000.000000\n",
       "Name: Kilometer, dtype: float64"
      ]
     },
     "execution_count": 73,
     "metadata": {},
     "output_type": "execute_result"
    }
   ],
   "source": [
    "autos['Kilometer'].describe()"
   ]
  },
  {
   "cell_type": "code",
   "execution_count": 74,
   "metadata": {},
   "outputs": [
    {
     "data": {
      "image/png": "[encoded data removed]",
      "text/plain": [
       "<Figure size 1080x504 with 1 Axes>"
      ]
     },
     "metadata": {},
     "output_type": "display_data"
    }
   ],
   "source": [
    "fig, ax = plt.subplots(figsize=(15,7))\n",
    "ax.hist((autos['Kilometer']), bins=10);\n",
    "ax.set_title('Пробег')\n",
    "ax.set_xlabel('км.')\n",
    "ax.set_ylabel('Колличество')\n",
    "plt.show()"
   ]
  },
  {
   "cell_type": "markdown",
   "metadata": {},
   "source": [
    "Аномально низких или высоких значений нет. Очень много значений 150000, но учитывая что это б/у автомобили и анкета заполнялась пользователем, то такое значение выглядит логично. Аномалий в `Kilometer` нет.\n",
    "\n",
    "Проверим `RegistrationMonth`."
   ]
  },
  {
   "cell_type": "code",
   "execution_count": 75,
   "metadata": {},
   "outputs": [
    {
     "data": {
      "text/plain": [
       "count    300869.000000\n",
       "mean          5.972676\n",
       "std           3.604457\n",
       "min           0.000000\n",
       "25%           3.000000\n",
       "50%           6.000000\n",
       "75%           9.000000\n",
       "max          12.000000\n",
       "Name: RegistrationMonth, dtype: float64"
      ]
     },
     "execution_count": 75,
     "metadata": {},
     "output_type": "execute_result"
    }
   ],
   "source": [
    "autos['RegistrationMonth'].describe()"
   ]
  },
  {
   "cell_type": "code",
   "execution_count": 76,
   "metadata": {},
   "outputs": [
    {
     "data": {
      "text/plain": [
       "array([ 0,  1,  2,  3,  4,  5,  6,  7,  8,  9, 10, 11, 12], dtype=int64)"
      ]
     },
     "execution_count": 76,
     "metadata": {},
     "output_type": "execute_result"
    }
   ],
   "source": [
    "autos['RegistrationMonth'].sort_values().unique()"
   ]
  },
  {
   "cell_type": "code",
   "execution_count": 77,
   "metadata": {},
   "outputs": [
    {
     "data": {
      "image/png": "[encoded data removed]",
      "text/plain": [
       "<Figure size 1080x504 with 1 Axes>"
      ]
     },
     "metadata": {},
     "output_type": "display_data"
    }
   ],
   "source": [
    "fig, ax = plt.subplots(figsize=(15,7))\n",
    "ax.hist((autos['RegistrationMonth']), bins=np.arange(13));\n",
    "ax.set_title('Пробег')\n",
    "ax.set_xlabel('км.')\n",
    "ax.set_ylabel('Колличество')\n",
    "plt.show()"
   ]
  },
  {
   "cell_type": "markdown",
   "metadata": {},
   "source": [
    "Нулевого месяца тут быть не должно, посмотрим сколько таких строк."
   ]
  },
  {
   "cell_type": "code",
   "execution_count": 78,
   "metadata": {},
   "outputs": [
    {
     "data": {
      "text/plain": [
       "19679"
      ]
     },
     "execution_count": 78,
     "metadata": {},
     "output_type": "execute_result"
    }
   ],
   "source": [
    "(autos.query('RegistrationMonth == 0')).shape[0]"
   ]
  },
  {
   "cell_type": "markdown",
   "metadata": {},
   "source": [
    "Нашли 24159 строки с нулевым месяцом. Принять за какое-то другое значение мы их не может и удалять их тоже не желательно так как мы потеряем много данных. Данный столбец нам не понадобится для создание моделей, так как он неиформативен для для нахождения цены. Позже на этапе удаление неиформативных признаков удалим его, а пока продолжим работу с аномалиями.\n",
    "\n",
    "Оставшиеся столбцы мы проверили когда работали с пропусками и дубликатами, кроме `DateCrawled`, `DateCreated`, `NumberOfPictures`, `PostalCode`, `LastSeen` которые нам не понадобятся."
   ]
  },
  {
   "cell_type": "code",
   "execution_count": 79,
   "metadata": {},
   "outputs": [
    {
     "data": {
      "text/plain": [
       "Index(['DateCrawled', 'Price', 'VehicleType', 'RegistrationYear', 'Gearbox',\n",
       "       'Power', 'Model', 'Kilometer', 'RegistrationMonth', 'FuelType', 'Brand',\n",
       "       'Repaired', 'DateCreated', 'NumberOfPictures', 'PostalCode',\n",
       "       'LastSeen'],\n",
       "      dtype='object')"
      ]
     },
     "execution_count": 79,
     "metadata": {},
     "output_type": "execute_result"
    }
   ],
   "source": [
    "autos.columns"
   ]
  },
  {
   "cell_type": "markdown",
   "metadata": {},
   "source": [
    "**Выводы по работе с аномалиями**\n",
    "\n",
    "Проверили данные на наличе аномалий.\n",
    "\n",
    "- В столбце `Price` нашли нулевые значения, а так же аномально низкие, удалили эти строки.\n",
    "- `RegistrationYear` содержал аномальные даты, все строки с годом до 1980 и после 2016 удалили.\n",
    "- Столбец `Power` содержал как аномально низкие так и высокие значения. Высокие удалили, а низкие (меньше 50л.с.) заменили медианой.\n",
    "- В `Kilometer` аномалий не обнаружили.\n",
    "- Со стобцами `VehicleType`, `Gearbox`, `Model`, `FuelType`, `Brand`, `Repaired` мы уже работали на предудущих этапах, аномалии отсутсвуют.\n",
    "- В `RegistrationMonth` есть аномалии - нулевой месяц которого там быть не должно. Данная колонка содержит признак который нам не понадобится, поэтому пока всё оставили как есть.\n",
    "- `DateCrawled`, `DateCreated`, `NumberOfPictures`, `PostalCode`, `LastSeen` мы не рассматривали, так как они содержат неинформативные признаки и мы их будем удалять."
   ]
  },
  {
   "cell_type": "markdown",
   "metadata": {},
   "source": [
    "<a id='unnecessary_data'></a>\n",
    "### Удаление ненужных данных\n",
    "\n",
    "`DateCrawled`, `RegistrationMonth`, `DateCreated`, `NumberOfPictures`, `PostalCode`, `LastSeen` являются неиформативными признаками, удалим их."
   ]
  },
  {
   "cell_type": "code",
   "execution_count": 80,
   "metadata": {},
   "outputs": [],
   "source": [
    "autos = autos.drop(['DateCrawled','RegistrationMonth', 'DateCreated',\n",
    "                    'NumberOfPictures', 'PostalCode', 'LastSeen'], axis=1) \\\n",
    "             .reset_index(drop=True)"
   ]
  },
  {
   "cell_type": "code",
   "execution_count": 81,
   "metadata": {
    "scrolled": true
   },
   "outputs": [
    {
     "name": "stdout",
     "output_type": "stream",
     "text": [
      "<class 'pandas.core.frame.DataFrame'>\n",
      "RangeIndex: 300869 entries, 0 to 300868\n",
      "Data columns (total 10 columns):\n",
      " #   Column            Non-Null Count   Dtype  \n",
      "---  ------            --------------   -----  \n",
      " 0   Price             300869 non-null  int64  \n",
      " 1   VehicleType       300869 non-null  object \n",
      " 2   RegistrationYear  300869 non-null  int64  \n",
      " 3   Gearbox           300869 non-null  object \n",
      " 4   Power             300869 non-null  float64\n",
      " 5   Model             300869 non-null  object \n",
      " 6   Kilometer         300869 non-null  int64  \n",
      " 7   FuelType          300869 non-null  object \n",
      " 8   Brand             300869 non-null  object \n",
      " 9   Repaired          300869 non-null  object \n",
      "dtypes: float64(1), int64(3), object(6)\n",
      "memory usage: 23.0+ MB\n"
     ]
    }
   ],
   "source": [
    "autos.info()"
   ]
  },
  {
   "cell_type": "markdown",
   "metadata": {},
   "source": [
    "Удалили ненужные стобцы, теперь у нас осталось 10 колонок."
   ]
  },
  {
   "cell_type": "markdown",
   "metadata": {},
   "source": [
    "<a id='types'></a>\n",
    "### Изменение типов данных\n",
    "\n",
    "Столбец `Power` имеет вещественный тип, а должен быть в целочисленном, исправим это. Так же для экономии памяти изменим типы `Price` и `RegistrationYear` на *int16* и `Kilometer` на *int32*."
   ]
  },
  {
   "cell_type": "code",
   "execution_count": 82,
   "metadata": {},
   "outputs": [],
   "source": [
    "autos['Power'] = autos['Power'].astype('int16')\n",
    "\n",
    "autos['RegistrationYear'] = autos['RegistrationYear'].astype('int16')\n",
    "autos['Price'] = autos['Price'].astype('int16')\n",
    "autos['Kilometer'] = autos['Kilometer'].astype('int32')"
   ]
  },
  {
   "cell_type": "code",
   "execution_count": 83,
   "metadata": {},
   "outputs": [
    {
     "name": "stdout",
     "output_type": "stream",
     "text": [
      "<class 'pandas.core.frame.DataFrame'>\n",
      "RangeIndex: 300869 entries, 0 to 300868\n",
      "Data columns (total 10 columns):\n",
      " #   Column            Non-Null Count   Dtype \n",
      "---  ------            --------------   ----- \n",
      " 0   Price             300869 non-null  int16 \n",
      " 1   VehicleType       300869 non-null  object\n",
      " 2   RegistrationYear  300869 non-null  int16 \n",
      " 3   Gearbox           300869 non-null  object\n",
      " 4   Power             300869 non-null  int16 \n",
      " 5   Model             300869 non-null  object\n",
      " 6   Kilometer         300869 non-null  int32 \n",
      " 7   FuelType          300869 non-null  object\n",
      " 8   Brand             300869 non-null  object\n",
      " 9   Repaired          300869 non-null  object\n",
      "dtypes: int16(3), int32(1), object(6)\n",
      "memory usage: 16.6+ MB\n"
     ]
    }
   ],
   "source": [
    "autos.info()"
   ]
  },
  {
   "cell_type": "code",
   "execution_count": 84,
   "metadata": {},
   "outputs": [
    {
     "data": {
      "text/plain": [
       "'84.90%'"
      ]
     },
     "execution_count": 84,
     "metadata": {},
     "output_type": "execute_result"
    }
   ],
   "source": [
    "check_del(autos)"
   ]
  },
  {
   "cell_type": "markdown",
   "metadata": {},
   "source": [
    "<a id='pre_conclusion'></a>\n",
    "### Выводы по предобработке данных\n",
    "\n",
    "Проверили предоставленные данные на наличие пропусков, дубликатов, аномалий:\n",
    "\n",
    "- Нашли пропуски, часть из них пришлось удалить, в остальных случаях заполнили их наиболее подходящими значениями. После работы с пропусками у нас осталось 94.4% от изначальных данных.\n",
    "- В данных было только 4 дубликата, удалили их.\n",
    "- Нашли аномалии в `Price` и `Power`.\n",
    " - В стобце с ценой были нулевые значения, а так же незначительное число аномально низких, удалили их.\n",
    " - В стобце с мощностью удалили аномально высокие значения (больше 400л.с.), таких значений было относительно немного. А вот аномально низких значений было много, заменили все значения меньше 50л.с. на медиану (105л.с.).\n",
    "\n",
    "Удалили неиформативные признаки - `DateCrawled`, `RegistrationMonth`, `DateCreated`, `NumberOfPictures`, `PostalCode`, `LastSeen`.\n",
    "\n",
    "Изменили типы данных в `Power` с вещественного типа на целочисленный int16, а так же в `Price` и `Kilometer` заменили int64 на int16 и int32 соответсвенно для экономии памяти.\n",
    "\n",
    "По итогам предобработки у нас осталось 84.90% от изначальных данных."
   ]
  },
  {
   "cell_type": "markdown",
   "metadata": {},
   "source": [
    "<a id='fit'></a>\n",
    "## Обучение моделей\n",
    "\n",
    "Данные подготовлены, можем переходить к моделям. Обучим 4 вида моделей: Линейная регрессия, Друво решений, LightGBM, CatBoost. Подбор параметров будем производить с помощью кросс-валидации GridSearchCV. Замерим время обучения каждой модели во вермя подбора параметров, а так же результаты метрики качества. В качестве метрики будем использовать RMSE."
   ]
  },
  {
   "cell_type": "markdown",
   "metadata": {},
   "source": [
    "<a id='data_preparation'></a>\n",
    "### Подготовка данных\n",
    "\n",
    "**Получения выборок**\n",
    "\n",
    "Нам нужно разделить датасет на две выборки: тренировочную и тестовую. Так как мы будем использовать GridSearchCV, отдельная валидационная нам не понадобится."
   ]
  },
  {
   "cell_type": "markdown",
   "metadata": {},
   "source": [
    "Выделим целевой признак - `Price`."
   ]
  },
  {
   "cell_type": "code",
   "execution_count": 85,
   "metadata": {},
   "outputs": [],
   "source": [
    "features = autos.drop('Price', axis=1)\n",
    "target = autos['Price']"
   ]
  },
  {
   "cell_type": "markdown",
   "metadata": {},
   "source": [
    "Целевой признак выделили, можем делать разбивку. Разделение произведём в соотношении 75%/25%, тренировочная и тестовая выборки соответственно."
   ]
  },
  {
   "cell_type": "code",
   "execution_count": 86,
   "metadata": {},
   "outputs": [],
   "source": [
    "features_train, features_test, target_train, target_test = train_test_split(\n",
    "    features, target, test_size=0.25, random_state=12345)"
   ]
  },
  {
   "cell_type": "code",
   "execution_count": 87,
   "metadata": {},
   "outputs": [
    {
     "name": "stdout",
     "output_type": "stream",
     "text": [
      "(225651, 9)\n",
      "(75218, 9)\n",
      "(225651,)\n",
      "(75218,)\n"
     ]
    }
   ],
   "source": [
    "print(features_train.shape)\n",
    "print(features_test.shape)\n",
    "print(target_train.shape)\n",
    "print(target_test.shape)"
   ]
  },
  {
   "cell_type": "markdown",
   "metadata": {},
   "source": [
    "**Прямое кодирование (OHE)**\n",
    "\n",
    "Подготовим данные для линейной модели. Сделаем прямое кодирование категориальных признаков и масштабирование численных."
   ]
  },
  {
   "cell_type": "code",
   "execution_count": 88,
   "metadata": {},
   "outputs": [],
   "source": [
    "categorical = features_train.select_dtypes(include='object').columns.to_list()\n",
    "numeric = ['RegistrationYear',\n",
    "           'Power',\n",
    "           'Kilometer']\n",
    "\n",
    "ohe_train = features_train.copy()\n",
    "ohe_test = features_test.copy()"
   ]
  },
  {
   "cell_type": "markdown",
   "metadata": {},
   "source": [
    "Обозначили категориальные и численные признаки. Создали отдельные переменные для закодированных признаков."
   ]
  },
  {
   "cell_type": "code",
   "execution_count": 89,
   "metadata": {},
   "outputs": [
    {
     "name": "stderr",
     "output_type": "stream",
     "text": [
      "C:\\Users\\Sasha\\anaconda3\\envs\\ds_practicum_env\\lib\\site-packages\\sklearn\\preprocessing\\_encoders.py:868: FutureWarning: `sparse` was renamed to `sparse_output` in version 1.2 and will be removed in 1.4. `sparse_output` is ignored unless you leave `sparse` to its default value.\n",
      "  warnings.warn(\n"
     ]
    }
   ],
   "source": [
    "ohe_encoder = OneHotEncoder(drop='first', handle_unknown='ignore', sparse=False)\n",
    "ohe_encoder.fit(ohe_train[categorical])\n",
    "\n",
    "ohe_train[ohe_encoder.get_feature_names_out()] = ohe_encoder.transform(ohe_train[categorical])\n",
    "ohe_train = ohe_train.drop(categorical, axis=1)"
   ]
  },
  {
   "cell_type": "markdown",
   "metadata": {},
   "source": [
    "Обучили кодировщик на категориальных данных из тренировочной выборки. Получили закодированные признаки и удалили из датасета старые категориальные признаки."
   ]
  },
  {
   "cell_type": "code",
   "execution_count": 90,
   "metadata": {},
   "outputs": [],
   "source": [
    "ohe_scaler = StandardScaler()\n",
    "ohe_train[numeric] = ohe_scaler.fit_transform(ohe_train[numeric])"
   ]
  },
  {
   "cell_type": "markdown",
   "metadata": {},
   "source": [
    "Сделали масштабирование численных признаков тренировочных данных."
   ]
  },
  {
   "cell_type": "code",
   "execution_count": 91,
   "metadata": {},
   "outputs": [
    {
     "name": "stderr",
     "output_type": "stream",
     "text": [
      "C:\\Users\\Sasha\\anaconda3\\envs\\ds_practicum_env\\lib\\site-packages\\sklearn\\preprocessing\\_encoders.py:202: UserWarning: Found unknown categories in columns [2] during transform. These unknown categories will be encoded as all zeros\n",
      "  warnings.warn(\n"
     ]
    }
   ],
   "source": [
    "ohe_test[ohe_encoder.get_feature_names_out()] = ohe_encoder.transform(ohe_test[categorical])\n",
    "ohe_test = ohe_test.drop(categorical, axis=1)\n",
    "\n",
    "ohe_test[numeric] = ohe_scaler.transform(ohe_test[numeric])"
   ]
  },
  {
   "cell_type": "markdown",
   "metadata": {},
   "source": [
    "Обученным на тренировочных данных кодировщиком получили закодированные признаки тестового датасета, а так же масштабировали численные признаки."
   ]
  },
  {
   "cell_type": "markdown",
   "metadata": {},
   "source": [
    "**Порядковое кодирование**"
   ]
  },
  {
   "cell_type": "markdown",
   "metadata": {},
   "source": [
    "Для остальных моделей подготовим данные с помощью порядкового кодирования. Для начала создадим отдельные переменные для признаков."
   ]
  },
  {
   "cell_type": "code",
   "execution_count": 92,
   "metadata": {},
   "outputs": [],
   "source": [
    "oe_train = features_train.copy()\n",
    "oe_test = features_test.copy()"
   ]
  },
  {
   "cell_type": "markdown",
   "metadata": {},
   "source": [
    "Переменные созданы, произведём кодировние категориальные и маштабирование численных признаков."
   ]
  },
  {
   "cell_type": "code",
   "execution_count": 93,
   "metadata": {},
   "outputs": [],
   "source": [
    "oe_encoder = OrdinalEncoder(handle_unknown='use_encoded_value', unknown_value=-1)\n",
    "oe_encoder.fit(oe_train[categorical])\n",
    "\n",
    "oe_train[oe_encoder.get_feature_names_out()] = oe_encoder.transform(oe_train[categorical])\n",
    "\n",
    "oe_test[oe_encoder.get_feature_names_out()] = oe_encoder.transform(oe_test[categorical])"
   ]
  },
  {
   "cell_type": "code",
   "execution_count": 94,
   "metadata": {},
   "outputs": [],
   "source": [
    "oe_scaler = StandardScaler()\n",
    "oe_train[numeric] = oe_scaler.fit_transform(oe_train[numeric])\n",
    "oe_test[numeric] = oe_scaler.transform(oe_test[numeric])"
   ]
  },
  {
   "cell_type": "markdown",
   "metadata": {},
   "source": [
    "Теперь у нас есть три варианта данных для моделей:\n",
    "\n",
    "- Без кодирования.\n",
    "- Кодированные техникой One-Hot-Encoding.\n",
    "- Кодированые техникой Ordinal Encoding.\n",
    "\n",
    "Приступим к обучению моделей."
   ]
  },
  {
   "cell_type": "markdown",
   "metadata": {},
   "source": [
    "<a id='lr'></a>\n",
    "### Линейная Регрессия\n",
    "\n",
    "Обучим линейную регресиию используя OHE признаки. Укажем разбивку на 5 блоков для подбора параметров крассвалидацией."
   ]
  },
  {
   "cell_type": "code",
   "execution_count": 95,
   "metadata": {
    "scrolled": true
   },
   "outputs": [
    {
     "name": "stdout",
     "output_type": "stream",
     "text": [
      "Fitting 5 folds for each of 1 candidates, totalling 5 fits\n",
      "{} \n",
      "\n",
      "RMSE on training data:  -2321.172231947211 \n",
      "\n",
      "Среднее время обучения:  2.248 секунд\n",
      "Среднее время предсказания:  0.018 секунд \n",
      "\n",
      "CPU times: total: 1min 44s\n",
      "Wall time: 14.4 s\n"
     ]
    }
   ],
   "source": [
    "%%time\n",
    "folds = KFold(n_splits = 5, shuffle = True, random_state = 12345)\n",
    "\n",
    "params = {}\n",
    "lr_model = LinearRegression()\n",
    "\n",
    "lr_model_cv = GridSearchCV(estimator = lr_model, \n",
    "                           param_grid = params, \n",
    "                           scoring= 'neg_root_mean_squared_error', \n",
    "                           cv = folds, \n",
    "                           verbose = 1,\n",
    "                           return_train_score=True)\n",
    "lr_model_cv.fit(ohe_train, target_train)\n",
    "print(lr_model_cv.best_params_, '\\n')\n",
    "print('RMSE on training data: ', lr_model_cv.best_score_, '\\n')\n",
    "print('Среднее время обучения: ', '{:,.3f}'.format(lr_model_cv.cv_results_['mean_fit_time'].mean()), 'секунд')\n",
    "print('Среднее время предсказания: ',  '{:,.3f}'.format(lr_model_cv.cv_results_['mean_score_time'].mean()),'секунд \\n')"
   ]
  },
  {
   "cell_type": "markdown",
   "metadata": {},
   "source": [
    "Обучили модель. Получили **RMSE = 2321**. Среднее время обучения блока **~2.15 секунды**, предсказания - **~0.018 секунды**. В итоге на подбор параметров затрачено **~14 секунд**."
   ]
  },
  {
   "cell_type": "markdown",
   "metadata": {},
   "source": [
    "<a id='dt'></a>\n",
    "### Древо Решений"
   ]
  },
  {
   "cell_type": "markdown",
   "metadata": {},
   "source": [
    "Обучим древо решиний. Будем использовать Ordinal признаки. Колличество блоков укажем такое же как и для линейной регрессии и для последующих моделей будем так же использовать 5 блоков."
   ]
  },
  {
   "cell_type": "code",
   "execution_count": 96,
   "metadata": {},
   "outputs": [
    {
     "name": "stdout",
     "output_type": "stream",
     "text": [
      "[1, 3, 5, 7, 9, 11, 13, 15]\n",
      "[2, 4, 6, 8, 10, 12]\n"
     ]
    }
   ],
   "source": [
    "samp_leafs = list(range(1, 16, 2))\n",
    "samp_split = list(range(2, 13, 2))\n",
    "\n",
    "print(samp_leafs)\n",
    "print(samp_split)"
   ]
  },
  {
   "cell_type": "code",
   "execution_count": 97,
   "metadata": {},
   "outputs": [
    {
     "name": "stdout",
     "output_type": "stream",
     "text": [
      "Fitting 5 folds for each of 48 candidates, totalling 240 fits\n",
      "{'min_samples_leaf': 9, 'min_samples_split': 2} \n",
      "\n",
      "RMSE on training data:  -1707.3406733323511 \n",
      "\n",
      "Среднее время обучения:  0.339 секунд\n",
      "Среднее время предсказания:  0.009 секунд \n",
      "\n",
      "CPU times: total: 1min 31s\n",
      "Wall time: 1min 31s\n"
     ]
    }
   ],
   "source": [
    "%%time\n",
    "folds = KFold(n_splits = 5, shuffle = True, random_state = 12345)\n",
    "\n",
    "params = {\n",
    "          'min_samples_leaf': samp_leafs,\n",
    "          'min_samples_split': samp_split\n",
    "         }\n",
    "\n",
    "dt_model = DecisionTreeRegressor()\n",
    "\n",
    "dt_model_cv = GridSearchCV(estimator = dt_model, \n",
    "                           param_grid = params, \n",
    "                           scoring= 'neg_root_mean_squared_error', \n",
    "                           cv = folds, \n",
    "                           verbose = 1,\n",
    "                           return_train_score=True)\n",
    "dt_model_cv.fit(oe_train, target_train)\n",
    "print(dt_model_cv.best_params_, '\\n')\n",
    "print('RMSE on training data: ', dt_model_cv.best_score_, '\\n')\n",
    "print('Среднее время обучения: ', '{:,.3f}'.format(dt_model_cv.cv_results_['mean_fit_time'].mean()), 'секунд')\n",
    "print('Среднее время предсказания: ',  '{:,.3f}'.format(dt_model_cv.cv_results_['mean_score_time'].mean()),'секунд \\n')"
   ]
  },
  {
   "cell_type": "markdown",
   "metadata": {},
   "source": [
    "Обучили модель. Лучшие параметры **min_samples_leaf: 9, min_samples_split: 2**, удалось достичь **RMSE=1707**, что является намного лучшим результатом чем у линейной регрессии. Среднее время обучения блока **~0.333 секунды**, предсказания - **~0.008 секунды**. На подбор параметров было затрачено **~1минута 30 секунд**."
   ]
  },
  {
   "cell_type": "markdown",
   "metadata": {},
   "source": [
    "<a id='lightgbm'></a>\n",
    "### LightGBM Regressor\n",
    "\n",
    "До этого мы исполозовали классические модели машинного обучения, сейчас обучим модель градиентного бустинга LightGBM. Попробуем два варианта: обучения на закодированных данных(ordinal) и используя встроенных возможности кодирования LighGBM."
   ]
  },
  {
   "cell_type": "code",
   "execution_count": 98,
   "metadata": {},
   "outputs": [
    {
     "name": "stdout",
     "output_type": "stream",
     "text": [
      "['rmse']\n",
      "[0.1]\n",
      "[30, 70, 110, 150]\n",
      "[1000]\n",
      "[0, 1]\n"
     ]
    }
   ],
   "source": [
    "metric = ['rmse']\n",
    "rate = [0.1]\n",
    "num_leaves = list(range(30, 160, 40))\n",
    "est = [1000]\n",
    "l1 = [0, 1]\n",
    "\n",
    "\n",
    "print(metric)\n",
    "print(rate)\n",
    "print(num_leaves)\n",
    "print(est)\n",
    "print(l1)"
   ]
  },
  {
   "cell_type": "code",
   "execution_count": 99,
   "metadata": {},
   "outputs": [
    {
     "name": "stdout",
     "output_type": "stream",
     "text": [
      "Fitting 5 folds for each of 8 candidates, totalling 40 fits\n",
      "{'learning_rate': 0.1, 'metric': 'rmse', 'n_estimators': 1000, 'num_leaves': 110, 'reg_alpha': 1} \n",
      "\n",
      "RMSE on training data:  -1455.4774210484056 \n",
      "\n",
      "Среднее время обучения:  2.956 секунд\n",
      "Среднее время предсказания:  0.135 секунд \n",
      "\n",
      "CPU times: total: 56min 43s\n",
      "Wall time: 2min 28s\n"
     ]
    }
   ],
   "source": [
    "%%time\n",
    "folds = KFold(n_splits = 5, shuffle = True, random_state = 12345)\n",
    "\n",
    "params = {\n",
    "          'metric': metric,\n",
    "          'learning_rate': rate,\n",
    "          'num_leaves': num_leaves,\n",
    "          'n_estimators': est,\n",
    "          'reg_alpha': l1\n",
    "         }\n",
    "\n",
    "lgb_oe_model = lgb.LGBMRegressor()\n",
    "\n",
    "lgb_oe_model_cv = GridSearchCV(estimator = lgb_oe_model, \n",
    "                               param_grid = params, \n",
    "                               scoring= 'neg_root_mean_squared_error', \n",
    "                               cv = folds, \n",
    "                               verbose = 1,\n",
    "                               return_train_score=True)\n",
    "lgb_oe_model_cv.fit(oe_train, target_train)\n",
    "print(lgb_oe_model_cv.best_params_, '\\n')\n",
    "print('RMSE on training data: ', lgb_oe_model_cv.best_score_, '\\n')\n",
    "print('Среднее время обучения: ', '{:,.3f}'.format(lgb_oe_model_cv.cv_results_['mean_fit_time'].mean()), 'секунд')\n",
    "print('Среднее время предсказания: ',  '{:,.3f}'.format(lgb_oe_model_cv.cv_results_['mean_score_time'].mean()),'секунд \\n')"
   ]
  },
  {
   "cell_type": "markdown",
   "metadata": {},
   "source": [
    "Обучили модель. Лучшие параметры: **learning_rate': 0.1, n_estimators: 1000, num_leaves: 110, reg_alpha: 1**. Удалось достичь **RMSE=1455**, что является пока лучшим результатом. Среднее время обучения блока **~2.79 секунды**, предсказания - **~0.13 секунды**. На подбор параметров было затрачено **~2 минуты 20 секунд**."
   ]
  },
  {
   "cell_type": "markdown",
   "metadata": {},
   "source": [
    "Для использования встроенного кодировщика нам сначала надо поменять тип данных в категориальных столбцах на *category*. Это необходимо для работы втроенного кодирования. Создадим новые переменные и произведём замену."
   ]
  },
  {
   "cell_type": "code",
   "execution_count": 100,
   "metadata": {},
   "outputs": [],
   "source": [
    "lgb_train = features_train.copy()\n",
    "lgb_test = features_test.copy()"
   ]
  },
  {
   "cell_type": "code",
   "execution_count": 101,
   "metadata": {},
   "outputs": [],
   "source": [
    "for c in lgb_train.columns:\n",
    "    col_type = lgb_train[c].dtypes\n",
    "    if col_type == 'object' or col_type.name == 'category':\n",
    "        lgb_train[c] = lgb_train[c].astype('category')\n",
    "        \n",
    "for c in lgb_test.columns:\n",
    "    col_type = lgb_test[c].dtypes\n",
    "    if col_type == 'object' or col_type.name == 'category':\n",
    "        lgb_test[c] = lgb_test[c].astype('category')"
   ]
  },
  {
   "cell_type": "code",
   "execution_count": 102,
   "metadata": {},
   "outputs": [],
   "source": [
    "lgb_scaler = StandardScaler()\n",
    "lgb_train[numeric] = lgb_scaler.fit_transform(lgb_train[numeric])\n",
    "lgb_test[numeric] = lgb_scaler.transform(lgb_test[numeric])"
   ]
  },
  {
   "cell_type": "markdown",
   "metadata": {},
   "source": [
    "Признаки готовы, можем приступать к подбору параметров."
   ]
  },
  {
   "cell_type": "code",
   "execution_count": 103,
   "metadata": {},
   "outputs": [
    {
     "name": "stdout",
     "output_type": "stream",
     "text": [
      "Fitting 5 folds for each of 8 candidates, totalling 40 fits\n",
      "{'learning_rate': 0.1, 'metric': 'rmse', 'n_estimators': 1000, 'num_leaves': 110, 'reg_alpha': 0} \n",
      "\n",
      "RMSE on training data:  -1444.0042678756038 \n",
      "\n",
      "Среднее время обучения:  3.204 секунд\n",
      "Среднее время предсказания:  0.162 секунд \n",
      "\n",
      "CPU times: total: 1h 3min 10s\n",
      "Wall time: 2min 43s\n"
     ]
    }
   ],
   "source": [
    "%%time\n",
    "folds = KFold(n_splits = 5, shuffle = True, random_state = 12345)\n",
    "\n",
    "params = {\n",
    "          'metric': metric,\n",
    "          'learning_rate': rate,\n",
    "          'num_leaves': num_leaves,\n",
    "          'n_estimators': est,\n",
    "          'reg_alpha': l1\n",
    "         }\n",
    "\n",
    "lgb_model = lgb.LGBMRegressor()\n",
    "\n",
    "lgb_model_cv = GridSearchCV(estimator = lgb_model, \n",
    "                            param_grid = params, \n",
    "                            scoring= 'neg_root_mean_squared_error', \n",
    "                            cv = folds, \n",
    "                            verbose = 1,\n",
    "                            return_train_score=True)\n",
    "lgb_model_cv.fit(lgb_train, target_train)\n",
    "print(lgb_model_cv.best_params_, '\\n')\n",
    "print('RMSE on training data: ', lgb_model_cv.best_score_, '\\n')\n",
    "print('Среднее время обучения: ', '{:,.3f}'.format(lgb_model_cv.cv_results_['mean_fit_time'].mean()), 'секунд')\n",
    "print('Среднее время предсказания: ',  '{:,.3f}'.format(lgb_model_cv.cv_results_['mean_score_time'].mean()),'секунд \\n')"
   ]
  },
  {
   "cell_type": "markdown",
   "metadata": {},
   "source": [
    "Обучили модель. Лучшие параметры: **learning_rate': 0.1, n_estimators: 1000, num_leaves: 110, reg_alpha: 0**. Удалось достичь **RMSE=1443**. Среднее время обучения блока **~3.16 секунды**, предсказания - **~0.16 секунды**. На подбор параметров было затрачено **~2 минуты 45 секунд**."
   ]
  },
  {
   "cell_type": "markdown",
   "metadata": {},
   "source": [
    "<a id='catboost'></a>\n",
    "### CatBoost Regressor\n",
    "\n",
    "Посмотрим на ещё одну модель градиентного бустинга, CatBoost."
   ]
  },
  {
   "cell_type": "code",
   "execution_count": 104,
   "metadata": {},
   "outputs": [
    {
     "name": "stdout",
     "output_type": "stream",
     "text": [
      "Fitting 5 folds for each of 5 candidates, totalling 25 fits\n",
      "{'learning_rate': 0.4, 'loss_function': 'RMSE', 'verbose': False} \n",
      "\n",
      "RMSE on training data:  -1490.0026467967207 \n",
      "\n",
      "Среднее время обучения:  8.962 секунд\n",
      "Среднее время предсказания:  0.007 секунд \n",
      "\n",
      "CPU times: total: 1h 5min 49s\n",
      "Wall time: 3min 55s\n"
     ]
    }
   ],
   "source": [
    "%%time\n",
    "folds = KFold(n_splits = 5, shuffle = True, random_state = 12345)\n",
    "\n",
    "params = {'learning_rate': [0.1, 0.2, 0.3, 0.4 , 0.5],\n",
    "          'verbose': [False],\n",
    "          'loss_function': ['RMSE']}\n",
    "\n",
    "cat_model = CatBoostRegressor()\n",
    "\n",
    "cat_model_cv = GridSearchCV(estimator = cat_model, \n",
    "                            param_grid = params, \n",
    "                            scoring= 'neg_root_mean_squared_error', \n",
    "                            cv = folds, \n",
    "                            verbose = 1,\n",
    "                            return_train_score=True)\n",
    "cat_model_cv.fit(oe_train, target_train)\n",
    "print(cat_model_cv.best_params_, '\\n')\n",
    "print('RMSE on training data: ', cat_model_cv.best_score_, '\\n')\n",
    "print('Среднее время обучения: ', '{:,.3f}'.format(cat_model_cv.cv_results_['mean_fit_time'].mean()), 'секунд')\n",
    "print('Среднее время предсказания: ',  '{:,.3f}'.format(cat_model_cv.cv_results_['mean_score_time'].mean()),'секунд \\n')"
   ]
  },
  {
   "cell_type": "markdown",
   "metadata": {},
   "source": [
    "Обучили модель. Лучшие параметры: **learning_rate: 0.4**. Удалось достичь **RMSE=1490**. Результат близкий к LightGBM. Среднее время обучения блока **~8.69 секунды**, предсказания - **~0.01 секунды**. На подбор параметров было затрачено **~3 минуты 48 секунд**."
   ]
  },
  {
   "cell_type": "markdown",
   "metadata": {},
   "source": [
    "<a id='models_conclusion'></a>\n",
    "### Выводы по обучению моделей\n",
    "\n",
    "Обучили 5 моделей, две классичесие и три градиентного бустинга:\n",
    "\n",
    "- **Линейная регрессия** показала худший результат RMSE, в целом худшие результы.\n",
    "- **Древо решений** по скорости обучения оказалась на первом месте, RMSE значительно лучше чем у линейной регрессии, но всё же хуже чем у моделей градиентного бустинга.\n",
    "- **LightBoost** обучили две модели: на данных обработанных техникой порядкового кодирования и встроенным кодировщиком. Обе модели показали лучшие результаты, **RMSE=1455** и **RMSE=1444** соответсвенно, скорость обучения довольно неплохая, а вот предсказания хуже остальных моделей.\n",
    "- **CatBoost** показал результат хороший результат, **RMSE=1490**, но скорость обучения худшая из 4 моделей, зато предсказания лучшая."
   ]
  },
  {
   "cell_type": "markdown",
   "metadata": {},
   "source": [
    "<a id='model_analysis'></a>\n",
    "## Анализ моделей"
   ]
  },
  {
   "cell_type": "markdown",
   "metadata": {},
   "source": [
    "Создадим таблицу в которую занесём полученные результаты."
   ]
  },
  {
   "cell_type": "code",
   "execution_count": 105,
   "metadata": {
    "scrolled": true
   },
   "outputs": [
    {
     "data": {
      "text/html": [
       "<div>\n",
       "<style scoped>\n",
       "    .dataframe tbody tr th:only-of-type {\n",
       "        vertical-align: middle;\n",
       "    }\n",
       "\n",
       "    .dataframe tbody tr th {\n",
       "        vertical-align: top;\n",
       "    }\n",
       "\n",
       "    .dataframe thead th {\n",
       "        text-align: right;\n",
       "    }\n",
       "</style>\n",
       "<table border=\"1\" class=\"dataframe\">\n",
       "  <thead>\n",
       "    <tr style=\"text-align: right;\">\n",
       "      <th></th>\n",
       "      <th>Модель</th>\n",
       "      <th>RMSE (евро)</th>\n",
       "      <th>Время подбора параметров (сек)</th>\n",
       "      <th>Время обучения (сек)</th>\n",
       "      <th>Время предсказания (сек)</th>\n",
       "    </tr>\n",
       "  </thead>\n",
       "  <tbody>\n",
       "    <tr>\n",
       "      <th>0</th>\n",
       "      <td>Линейная регрессия</td>\n",
       "      <td>2321</td>\n",
       "      <td>14</td>\n",
       "      <td>2.180</td>\n",
       "      <td>0.018</td>\n",
       "    </tr>\n",
       "    <tr>\n",
       "      <th>1</th>\n",
       "      <td>Древо решений</td>\n",
       "      <td>1708</td>\n",
       "      <td>90</td>\n",
       "      <td>0.340</td>\n",
       "      <td>0.008</td>\n",
       "    </tr>\n",
       "    <tr>\n",
       "      <th>2</th>\n",
       "      <td>LightGBM (OE)</td>\n",
       "      <td>1455</td>\n",
       "      <td>140</td>\n",
       "      <td>2.790</td>\n",
       "      <td>0.133</td>\n",
       "    </tr>\n",
       "    <tr>\n",
       "      <th>3</th>\n",
       "      <td>LightGBM</td>\n",
       "      <td>1444</td>\n",
       "      <td>180</td>\n",
       "      <td>3.155</td>\n",
       "      <td>0.158</td>\n",
       "    </tr>\n",
       "    <tr>\n",
       "      <th>4</th>\n",
       "      <td>CatBoost</td>\n",
       "      <td>1490</td>\n",
       "      <td>232</td>\n",
       "      <td>8.838</td>\n",
       "      <td>0.007</td>\n",
       "    </tr>\n",
       "  </tbody>\n",
       "</table>\n",
       "</div>"
      ],
      "text/plain": [
       "               Модель  RMSE (евро)  Время подбора параметров (сек)  \\\n",
       "0  Линейная регрессия         2321                              14   \n",
       "1       Древо решений         1708                              90   \n",
       "2       LightGBM (OE)         1455                             140   \n",
       "3            LightGBM         1444                             180   \n",
       "4            CatBoost         1490                             232   \n",
       "\n",
       "   Время обучения (сек)  Время предсказания (сек)  \n",
       "0                 2.180                     0.018  \n",
       "1                 0.340                     0.008  \n",
       "2                 2.790                     0.133  \n",
       "3                 3.155                     0.158  \n",
       "4                 8.838                     0.007  "
      ]
     },
     "metadata": {},
     "output_type": "display_data"
    }
   ],
   "source": [
    "columns = ['Модель',\n",
    "           'RMSE (евро)',\n",
    "           'Время подбора параметров (сек)',\n",
    "           'Время обучения (сек)',\n",
    "           'Время предсказания (сек)']\n",
    "\n",
    "results = pd.DataFrame(\n",
    "                       [\n",
    "                        ['Линейная регрессия', 2321, 14, 2.18, 0.018],\n",
    "                        ['Древо решений', 1708, 90, 0.34, 0.008],\n",
    "                        ['LightGBM (OE)', 1455, 140, 2.79, 0.133],\n",
    "                        ['LightGBM', 1444, 180, 3.155, 0.158],\n",
    "                        ['CatBoost', 1490, 232, 8.838, 0.007]\n",
    "                       ], columns=columns\n",
    "                      )\n",
    "\n",
    "display(results)"
   ]
  },
  {
   "cell_type": "markdown",
   "metadata": {},
   "source": [
    "Если важна скорость предсказания, то CatBoost лучший вариант, но у него скорость обучения худшая из представленых моделей. Остановимся на LightGBM обученной с признаками закодированными техникой порядкового кодирования. Данная модель показала отличные результаты, единственное слабое место - время предсказания."
   ]
  },
  {
   "cell_type": "markdown",
   "metadata": {},
   "source": [
    "<a id='test'></a>\n",
    "### Тестирование"
   ]
  },
  {
   "cell_type": "code",
   "execution_count": 106,
   "metadata": {},
   "outputs": [
    {
     "name": "stdout",
     "output_type": "stream",
     "text": [
      "RMSE = 1434.286778030057 \n",
      "\n",
      "CPU times: total: 5.86 s\n",
      "Wall time: 247 ms\n"
     ]
    }
   ],
   "source": [
    "%%time\n",
    "predictions =  lgb_oe_model_cv.predict(oe_test)\n",
    "rmse = mean_squared_error(target_test, predictions, squared=False)\n",
    "\n",
    "print('RMSE =', rmse, '\\n')"
   ]
  },
  {
   "cell_type": "markdown",
   "metadata": {},
   "source": [
    "Получили **RMSE = 1434** на тестовой выборке, время предсказания ~0.245 секунд. Данный результат нас устраивает."
   ]
  },
  {
   "cell_type": "markdown",
   "metadata": {},
   "source": [
    "<a id='conclusion'></a>\n",
    "## Итоговые выводы\n",
    "\n",
    "В данном проекте сравнили 4 модели машинного обучения. Нам нужно было предсказать цену б.у. автомобиля, для этого использовали данные о технических характеристиках, комплектации и т.п. различных автомобилей. \n",
    "\n",
    "Данные были заполнены пользователями, поэтому их необходимо было обработать. Сделали предобработку, проверили на наличие пропусков, дубликатов, аномалий. Так же скорректировали типы данных в тех колонках где это было необходимо и в тех колонках где удалось таким образом уменьшить объём потребляемой памяти.\n",
    "\n",
    "После того как очистили данные приступили к подготовки их для моделей. Произвели кодирование техникой One-Hot-Encoding для линейной модели, а так же техникой Ordinal Encoding для остальных. Выделили целевой признак, получили две выборки (тренировочная и тестовая), сделали масштабирование численных признаков. Подобрали лучшие гиперпараметры с помощью кросс-валидации GridSearchCV, сделали замеры времени затраченного на подбор параметров, а так же получили значения метрики качества RMSE на тренировочных данных.\n",
    "\n",
    "- LightGBM показал лучшие результаты RMSE. Так же отличное время обучения, быстрее только древо решений обучалось. Но время предсказания значительно хуже чем у всех остальных моделей.\n",
    "- CatBoost по метрике качества RMSE находится на втором месте, не сильно отставая от LightGBM. Но скорость предсказания превосходит остальные модели. Зато время обучения самое низкое.\n",
    "- Древо решений показало результат существенно хуже чем модели использующщий градиентный бустинг. По скорости обучения в среднем находится между CatBoost и LightGBM. Обучается быстрее чем CatBoost и делает предсказания быстрее чем LigthGBM.\n",
    "- Линейная регрессия показала худшие результаты.\n",
    "\n",
    "\n",
    "Можем порекомендовать использовать или LightGBM или Catboost. LightGBM будет лучшим выбором если скорость предсказания не критична, зато если она важна, то CatBoost быстрее всех представленных моделей, а RMSE только немного хуже чем у LighGBM. Если важна скорость обучения, то LighGBM лучший. Древо решений тоже не стоит игнорировать, когда важны обе скорости эта модель показывает неплохие результаты, но метрика качества будет хуже чем у градиентного бустинга, можно сократить разрыв если попробовать больше потратить время на подбор параметров.\n",
    "\n",
    "В итоге мы выбрали модель LightGBM обученный на признаках обработанных техникой порядкового кодирования. Сделали предсказания на тестовой выборке и получили результаты метрики качества RMSE и время предсказания. **RMSE = 1434** что является хорошим результатом."
   ]
  }
 ],
 "metadata": {
  "kernelspec": {
   "display_name": "Python 3 (ipykernel)",
   "language": "python",
   "name": "python3"
  },
  "language_info": {
   "codemirror_mode": {
    "name": "ipython",
    "version": 3
   },
   "file_extension": ".py",
   "mimetype": "text/x-python",
   "name": "python",
   "nbconvert_exporter": "python",
   "pygments_lexer": "ipython3",
   "version": "3.9.18"
  },
  "toc": {
   "base_numbering": 1,
   "nav_menu": {},
   "number_sections": true,
   "sideBar": true,
   "skip_h1_title": true,
   "title_cell": "Table of Contents",
   "title_sidebar": "Contents",
   "toc_cell": false,
   "toc_position": {},
   "toc_section_display": true,
   "toc_window_display": true
  },
  "varInspector": {
   "cols": {
    "lenName": 16,
    "lenType": 16,
    "lenVar": 40
   },
   "kernels_config": {
    "python": {
     "delete_cmd_postfix": "",
     "delete_cmd_prefix": "del ",
     "library": "var_list.py",
     "varRefreshCmd": "print(var_dic_list())"
    },
    "r": {
     "delete_cmd_postfix": ") ",
     "delete_cmd_prefix": "rm(",
     "library": "var_list.r",
     "varRefreshCmd": "cat(var_dic_list()) "
    }
   },
   "types_to_exclude": [
    "module",
    "function",
    "builtin_function_or_method",
    "instance",
    "_Feature"
   ],
   "window_display": false
  }
 },
 "nbformat": 4,
 "nbformat_minor": 4
}
